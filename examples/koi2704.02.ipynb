{
 "metadata": {
  "name": "",
  "signature": "sha256:ec1a1777fd70fcde4e27c5f58943dbeee186d1624f896bf682e1680c414552ed"
 },
 "nbformat": 3,
 "nbformat_minor": 0,
 "worksheets": [
  {
   "cells": [
    {
     "cell_type": "code",
     "collapsed": false,
     "input": [
      "%matplotlib inline\n",
      "\n",
      "import numpy as np\n",
      "import time\n",
      "import matplotlib.pyplot as plt\n",
      "\n",
      "from vespa.transitsignal import TransitSignal_ASCII\n",
      "from vespa.populations import HEBPopulation, BGEBPopulation\n",
      "\n",
      "from vespa.transit_basic import MAInterpolationFunction\n",
      "\n",
      "from keputils import koiutils as ku\n",
      "\n",
      "import logging\n",
      "rootLogger = logging.getLogger()\n",
      "rootLogger.setLevel(logging.INFO)"
     ],
     "language": "python",
     "metadata": {},
     "outputs": [
      {
       "output_type": "stream",
       "stream": "stderr",
       "text": [
        "/u/tdm/anaconda/lib/python2.7/site-packages/setuptools-7.0-py2.7.egg/pkg_resources.py:1045: UserWarning: /u/tdm/.python-eggs is writable by group/others and vulnerable to attack when used with get_resource_filename. Consider a more secure location (set with .set_extraction_path or the PYTHON_EGG_CACHE environment variable).\n"
       ]
      }
     ],
     "prompt_number": 1
    },
    {
     "cell_type": "code",
     "collapsed": false,
     "input": [
      "#import warnings\n",
      "#warnings.simplefilter(\"error\")\n",
      "#warnings.simplefilter(\"ignore\", DeprecationWarning)"
     ],
     "language": "python",
     "metadata": {},
     "outputs": [],
     "prompt_number": 2
    },
    {
     "cell_type": "code",
     "collapsed": false,
     "input": [
      "ra,dec = ku.radec(2704)\n",
      "mags = ku.KICmags(2704)\n",
      "mass = (0.18, 0.04)\n",
      "radius = (0.21, 0.03)\n",
      "feh = (0.27, 0.13)\n",
      "age = (9.7,0.1)\n",
      "period = ku.get_property(2704,'koi_period')"
     ],
     "language": "python",
     "metadata": {},
     "outputs": [],
     "prompt_number": 3
    },
    {
     "cell_type": "code",
     "collapsed": false,
     "input": [
      "MAfn = MAInterpolationFunction(pmin=0.05, pmax=1/0.05)"
     ],
     "language": "python",
     "metadata": {},
     "outputs": [],
     "prompt_number": 5
    },
    {
     "cell_type": "code",
     "collapsed": false,
     "input": [
      "#uncomment below if you want to redo the simulations/fits\n",
      "#n = 5e3\n",
      "#hebpop = HEBPopulation(mass=mass, age=age, feh=feh, colors=[],\n",
      "#                       period=period, mags=mags, MAfn=MAfn, n=n)\n",
      "#t0 = time.time()\n",
      "#hebpop.fit_trapezoids(MAfn=MAfn)\n",
      "#t1 = time.time()\n",
      "#print 'Fitting {} systems took {:.2f} minutes.'.format(n,(t1-t0)/60)\n",
      "#hebpop.save_hdf('heb_2704.02.h5')\n",
      "\n",
      "hebpop = HEBPopulation().load_hdf('heb_2704.02.h5')"
     ],
     "language": "python",
     "metadata": {},
     "outputs": [],
     "prompt_number": 2
    },
    {
     "cell_type": "code",
     "collapsed": false,
     "input": [
      "#bebpop = BGEBPopulation(trilegal_filename='2704_starfield.h5', \n",
      "#                       ra=ra, dec=dec, period=period, mags=mags,\n",
      "#                       MAfn=MAfn, n=5e3)\n",
      "#t0 = time.time()\n",
      "#bebpop.fit_trapezoids(MAfn=MAfn)\n",
      "#t1 = time.time()\n",
      "#print 'Fitting systems took {:.2f} minutes.'.format((t1-t0)/60)\n",
      "#bebpop.save_hdf('beb_2704.02.h5')\n",
      "bebpop = BGEBPopulation().load_hdf('beb_2704.02.h5')"
     ],
     "language": "python",
     "metadata": {},
     "outputs": [],
     "prompt_number": 3
    },
    {
     "cell_type": "code",
     "collapsed": false,
     "input": [
      "sig = TransitSignal_ASCII('2704.02.txt')\n",
      "sig.MCMC(savedir='2704_chains/')"
     ],
     "language": "python",
     "metadata": {},
     "outputs": [
      {
       "output_type": "stream",
       "stream": "stderr",
       "text": [
        "INFO:root:MCMC fit already done for .  Loading chains.\n"
       ]
      }
     ],
     "prompt_number": 4
    },
    {
     "cell_type": "code",
     "collapsed": false,
     "input": [
      "sig.plot()"
     ],
     "language": "python",
     "metadata": {},
     "outputs": []
    },
    {
     "cell_type": "code",
     "collapsed": false,
     "input": [
      "hebpop.trsig_lhood(sig)"
     ],
     "language": "python",
     "metadata": {},
     "outputs": [
      {
       "metadata": {},
       "output_type": "pyout",
       "prompt_number": 7,
       "text": [
        "0.000568549"
       ]
      }
     ],
     "prompt_number": 7
    },
    {
     "cell_type": "code",
     "collapsed": false,
     "input": [
      "bebpop.trsig_lhood(sig)"
     ],
     "language": "python",
     "metadata": {},
     "outputs": [
      {
       "metadata": {},
       "output_type": "pyout",
       "prompt_number": 8,
       "text": [
        "5455.25"
       ]
      }
     ],
     "prompt_number": 8
    },
    {
     "cell_type": "code",
     "collapsed": false,
     "input": [
      "np.isnan(bebpop.dilution_factor).sum()"
     ],
     "language": "python",
     "metadata": {},
     "outputs": [
      {
       "metadata": {},
       "output_type": "pyout",
       "prompt_number": 10,
       "text": [
        "0"
       ]
      }
     ],
     "prompt_number": 10
    },
    {
     "cell_type": "code",
     "collapsed": false,
     "input": [
      "rootLogger.setLevel(logging.DEBUG)\n",
      "bebpop.lhoodplot(sig, logscale=True)\n",
      "hebpop.lhoodplot(sig, logscale=True)"
     ],
     "language": "python",
     "metadata": {},
     "outputs": [
      {
       "metadata": {},
       "output_type": "display_data",
       "png": "[encoded data removed]",
       "text": [
        "<matplotlib.figure.Figure at 0x7fe29be9c910>"
       ]
      },
      {
       "metadata": {},
       "output_type": "display_data",
       "png": "[encoded data removed]",
       "text": [
        "<matplotlib.figure.Figure at 0x7fe29be9c8d0>"
       ]
      }
     ],
     "prompt_number": 5
    },
    {
     "cell_type": "code",
     "collapsed": false,
     "input": [
      "pop = bebpop\n",
      "pop.stars[(pop.depth <= 0) | (np.isnan(pop.depth))]"
     ],
     "language": "python",
     "metadata": {},
     "outputs": [
      {
       "html": [
        "<div style=\"max-height:1000px;max-width:1500px;overflow:auto;\">\n",
        "<table border=\"1\" class=\"dataframe\">\n",
        "  <thead>\n",
        "    <tr style=\"text-align: right;\">\n",
        "      <th></th>\n",
        "      <th>level_0</th>\n",
        "      <th>H_mag</th>\n",
        "      <th>H_mag_A</th>\n",
        "      <th>J_mag</th>\n",
        "      <th>J_mag_A</th>\n",
        "      <th>K_mag</th>\n",
        "      <th>K_mag_A</th>\n",
        "      <th>Kepler_mag</th>\n",
        "      <th>Kepler_mag_A</th>\n",
        "      <th>Teff_A</th>\n",
        "      <th>...</th>\n",
        "      <th>w</th>\n",
        "      <th>mass_1</th>\n",
        "      <th>radius_1</th>\n",
        "      <th>mass_2</th>\n",
        "      <th>radius_2</th>\n",
        "      <th>depth</th>\n",
        "      <th>duration</th>\n",
        "      <th>secdepth</th>\n",
        "      <th>secondary</th>\n",
        "      <th>slope</th>\n",
        "    </tr>\n",
        "  </thead>\n",
        "  <tbody>\n",
        "    <tr>\n",
        "      <th>4649</th>\n",
        "      <td> 2048</td>\n",
        "      <td>NaN</td>\n",
        "      <td>NaN</td>\n",
        "      <td>NaN</td>\n",
        "      <td>NaN</td>\n",
        "      <td>NaN</td>\n",
        "      <td>NaN</td>\n",
        "      <td>NaN</td>\n",
        "      <td>NaN</td>\n",
        "      <td>NaN</td>\n",
        "      <td>...</td>\n",
        "      <td> 124.513192</td>\n",
        "      <td> 0.109451</td>\n",
        "      <td> 0.127831</td>\n",
        "      <td> 0.102049</td>\n",
        "      <td> 0.121820</td>\n",
        "      <td> 0.144521</td>\n",
        "      <td> 0.048862</td>\n",
        "      <td> 0.15676</td>\n",
        "      <td> False</td>\n",
        "      <td> 2.320787</td>\n",
        "    </tr>\n",
        "    <tr>\n",
        "      <th>4765</th>\n",
        "      <td> 2164</td>\n",
        "      <td>NaN</td>\n",
        "      <td>NaN</td>\n",
        "      <td>NaN</td>\n",
        "      <td>NaN</td>\n",
        "      <td>NaN</td>\n",
        "      <td>NaN</td>\n",
        "      <td>NaN</td>\n",
        "      <td>NaN</td>\n",
        "      <td>NaN</td>\n",
        "      <td>...</td>\n",
        "      <td> 112.650280</td>\n",
        "      <td> 0.107359</td>\n",
        "      <td> 0.126139</td>\n",
        "      <td> 0.102595</td>\n",
        "      <td> 0.122619</td>\n",
        "      <td> 0.112920</td>\n",
        "      <td> 0.033085</td>\n",
        "      <td> 0.00000</td>\n",
        "      <td> False</td>\n",
        "      <td> 2.729261</td>\n",
        "    </tr>\n",
        "  </tbody>\n",
        "</table>\n",
        "<p>2 rows \u00d7 84 columns</p>\n",
        "</div>"
       ],
       "metadata": {},
       "output_type": "pyout",
       "prompt_number": 22,
       "text": [
        "      level_0  H_mag  H_mag_A  J_mag  J_mag_A  K_mag  K_mag_A  Kepler_mag  \\\n",
        "4649     2048    NaN      NaN    NaN      NaN    NaN      NaN         NaN   \n",
        "4765     2164    NaN      NaN    NaN      NaN    NaN      NaN         NaN   \n",
        "\n",
        "      Kepler_mag_A  Teff_A    ...              w    mass_1  radius_1  \\\n",
        "4649           NaN     NaN    ...     124.513192  0.109451  0.127831   \n",
        "4765           NaN     NaN    ...     112.650280  0.107359  0.126139   \n",
        "\n",
        "        mass_2  radius_2     depth  duration  secdepth  secondary     slope  \n",
        "4649  0.102049  0.121820  0.144521  0.048862   0.15676      False  2.320787  \n",
        "4765  0.102595  0.122619  0.112920  0.033085   0.00000      False  2.729261  \n",
        "\n",
        "[2 rows x 84 columns]"
       ]
      }
     ],
     "prompt_number": 22
    },
    {
     "cell_type": "code",
     "collapsed": false,
     "input": [
      "pop = bebpop\n",
      "(np.isnan(pop.depth) | (pop.depth == 0)).sum()"
     ],
     "language": "python",
     "metadata": {},
     "outputs": [
      {
       "metadata": {},
       "output_type": "pyout",
       "prompt_number": 18,
       "text": [
        "1"
       ]
      }
     ],
     "prompt_number": 18
    },
    {
     "cell_type": "code",
     "collapsed": false,
     "input": [
      "sig.slopefit"
     ],
     "language": "python",
     "metadata": {},
     "outputs": [
      {
       "metadata": {},
       "output_type": "pyout",
       "prompt_number": 8,
       "text": [
        "(4.1051488439846811, array([ 2.10249086,  8.66746857]))"
       ]
      }
     ],
     "prompt_number": 8
    },
    {
     "cell_type": "code",
     "collapsed": false,
     "input": [],
     "language": "python",
     "metadata": {},
     "outputs": []
    },
    {
     "cell_type": "code",
     "collapsed": false,
     "input": [],
     "language": "python",
     "metadata": {},
     "outputs": []
    },
    {
     "cell_type": "code",
     "collapsed": false,
     "input": [],
     "language": "python",
     "metadata": {},
     "outputs": []
    },
    {
     "cell_type": "code",
     "collapsed": false,
     "input": [
      "from starutils.populations import DARTMOUTH as dar"
     ],
     "language": "python",
     "metadata": {},
     "outputs": [],
     "prompt_number": 32
    },
    {
     "cell_type": "code",
     "collapsed": false,
     "input": [
      "mass = bgpop.stars['m_ini'].copy().values\n",
      "age =  bgpop.stars['logAge'].copy().values\n",
      "feh =  bgpop.stars['[M/H]'].copy().values\n",
      "\n",
      "pct = 0.05\n",
      "mass[mass < dar.minmass*(1+pct)] = dar.minmass*(1+pct)\n",
      "mass[mass > dar.maxmass*(1-pct)] = dar.maxmass*(1-pct)\n",
      "age[age < dar.minage*(1+pct)] = dar.minage*(1+pct)\n",
      "age[age > dar.maxage*(1-pct)] = dar.maxage*(1-pct)\n",
      "feh[feh < dar.minfeh+0.05] = dar.minfeh+0.05\n",
      "feh[feh > dar.maxfeh-0.05] = dar.maxfeh-0.05\n",
      "\n",
      "n = int(1e3)\n",
      "inds = np.random.randint(len(mass), size=n)\n",
      "mass = mass[inds]\n",
      "age = age[inds]\n",
      "feh = feh[inds]\n",
      "\n",
      "testpop = MultipleStarPopulation(mA=mass,\n",
      "                                 age=age,\n",
      "                                 feh=feh,\n",
      "                                 f_triple=0, f_binary=1,\n",
      "                                 distance=bgpop.stars['distance'],\n",
      "                                 period_long=200.)"
     ],
     "language": "python",
     "metadata": {},
     "outputs": [],
     "prompt_number": 136
    },
    {
     "cell_type": "code",
     "collapsed": false,
     "input": [
      "print len(testpop.stars['mass_A'])\n",
      "badA = np.isnan(testpop.stars['mass_A'])\n",
      "print badA.sum()\n",
      "len(testpop.stars.dropna(subset=['mass_A']))"
     ],
     "language": "python",
     "metadata": {},
     "outputs": [
      {
       "output_type": "stream",
       "stream": "stdout",
       "text": [
        "1000\n",
        "10\n"
       ]
      },
      {
       "metadata": {},
       "output_type": "pyout",
       "prompt_number": 145,
       "text": [
        "990"
       ]
      }
     ],
     "prompt_number": 145
    },
    {
     "cell_type": "code",
     "collapsed": false,
     "input": [
      "print len(testpop.stars['mass_B'])\n",
      "badB = np.isnan(testpop.stars['mass_B'])\n",
      "print badB.sum()"
     ],
     "language": "python",
     "metadata": {},
     "outputs": [
      {
       "output_type": "stream",
       "stream": "stdout",
       "text": [
        "1000\n",
        "0\n"
       ]
      }
     ],
     "prompt_number": 130
    },
    {
     "cell_type": "code",
     "collapsed": false,
     "input": [
      "plt.plot(mass[badA], age[badA], '.')"
     ],
     "language": "python",
     "metadata": {},
     "outputs": [
      {
       "metadata": {},
       "output_type": "pyout",
       "prompt_number": 131,
       "text": [
        "[<matplotlib.lines.Line2D at 0x125038bd0>]"
       ]
      },
      {
       "metadata": {},
       "output_type": "display_data",
       "png": "[encoded data removed]",
       "text": [
        "<matplotlib.figure.Figure at 0x12497ebd0>"
       ]
      }
     ],
     "prompt_number": 131
    },
    {
     "cell_type": "code",
     "collapsed": false,
     "input": [
      "plt.plot(mass[badB], age[badB], '.')"
     ],
     "language": "python",
     "metadata": {},
     "outputs": [
      {
       "metadata": {},
       "output_type": "pyout",
       "prompt_number": 119,
       "text": [
        "[<matplotlib.lines.Line2D at 0x124406250>]"
       ]
      },
      {
       "metadata": {},
       "output_type": "display_data",
       "png": "[encoded data removed]",
       "text": [
        "<matplotlib.figure.Figure at 0x123a5af90>"
       ]
      }
     ],
     "prompt_number": 119
    },
    {
     "cell_type": "code",
     "collapsed": false,
     "input": [
      "mass[badB]"
     ],
     "language": "python",
     "metadata": {},
     "outputs": [
      {
       "metadata": {},
       "output_type": "pyout",
       "prompt_number": 77,
       "text": [
        "2159    1.968872\n",
        "2306    1.968872\n",
        "3505    1.968872\n",
        "3964    1.968872\n",
        "5840    1.968872\n",
        "6751    1.968872\n",
        "7537    1.968872\n",
        "8621    1.968872\n",
        "8703    1.968872\n",
        "9571    1.968872\n",
        "Name: m_ini, dtype: float64"
       ]
      }
     ],
     "prompt_number": 77
    },
    {
     "cell_type": "code",
     "collapsed": false,
     "input": [
      "plt.hist(mass,bins=50)"
     ],
     "language": "python",
     "metadata": {},
     "outputs": [
      {
       "metadata": {},
       "output_type": "pyout",
       "prompt_number": 58,
       "text": [
        "(array([ 2613.,  1146.,   926.,   716.,   572.,   479.,   396.,   330.,\n",
        "          270.,   245.,   202.,   179.,   147.,   141.,   137.,    96.,\n",
        "          103.,    87.,    82.,    68.,    68.,    52.,    62.,    58.,\n",
        "           47.,    40.,    33.,    40.,    34.,    28.,    22.,    27.,\n",
        "           35.,    23.,    31.,    25.,    15.,    17.,    18.,    22.,\n",
        "           15.,    16.,    11.,    13.,    11.,    11.,    11.,    10.,\n",
        "           16.,   254.]),\n",
        " array([ 0.100462  ,  0.14220548,  0.18394896,  0.22569244,  0.26743592,\n",
        "         0.3091794 ,  0.35092288,  0.39266636,  0.43440984,  0.47615332,\n",
        "         0.5178968 ,  0.55964028,  0.60138376,  0.64312724,  0.68487072,\n",
        "         0.7266142 ,  0.76835768,  0.81010116,  0.85184464,  0.89358812,\n",
        "         0.9353316 ,  0.97707508,  1.01881856,  1.06056204,  1.10230552,\n",
        "         1.144049  ,  1.18579248,  1.22753596,  1.26927944,  1.31102292,\n",
        "         1.3527664 ,  1.39450988,  1.43625336,  1.47799684,  1.51974032,\n",
        "         1.5614838 ,  1.60322728,  1.64497076,  1.68671424,  1.72845772,\n",
        "         1.7702012 ,  1.81194468,  1.85368816,  1.89543164,  1.93717512,\n",
        "         1.9789186 ,  2.02066208,  2.06240556,  2.10414904,  2.14589252,\n",
        "         2.187636  ]),\n",
        " <a list of 50 Patch objects>)"
       ]
      },
      {
       "metadata": {},
       "output_type": "display_data",
       "png": "[encoded data removed]",
       "text": [
        "<matplotlib.figure.Figure at 0x122809050>"
       ]
      }
     ],
     "prompt_number": 58
    },
    {
     "cell_type": "code",
     "collapsed": false,
     "input": [
      "plt.hist(testpop.stars['mass_A'], histtype='step', normed=True)\n",
      "plt.hist(testpop.stars['mass_B'], histtype='step', normed=True)"
     ],
     "language": "python",
     "metadata": {},
     "outputs": [
      {
       "ename": "AttributeError",
       "evalue": "max must be larger than min in range parameter.",
       "output_type": "pyerr",
       "traceback": [
        "\u001b[0;31m---------------------------------------------------------------------------\u001b[0m\n\u001b[0;31mAttributeError\u001b[0m                            Traceback (most recent call last)",
        "\u001b[0;32m<ipython-input-23-9245b6a0e4f5>\u001b[0m in \u001b[0;36m<module>\u001b[0;34m()\u001b[0m\n\u001b[0;32m----> 1\u001b[0;31m \u001b[0mplt\u001b[0m\u001b[0;34m.\u001b[0m\u001b[0mhist\u001b[0m\u001b[0;34m(\u001b[0m\u001b[0mtestpop\u001b[0m\u001b[0;34m.\u001b[0m\u001b[0mstars\u001b[0m\u001b[0;34m[\u001b[0m\u001b[0;34m'mass_A'\u001b[0m\u001b[0;34m]\u001b[0m\u001b[0;34m,\u001b[0m \u001b[0mhisttype\u001b[0m\u001b[0;34m=\u001b[0m\u001b[0;34m'step'\u001b[0m\u001b[0;34m,\u001b[0m \u001b[0mnormed\u001b[0m\u001b[0;34m=\u001b[0m\u001b[0mTrue\u001b[0m\u001b[0;34m)\u001b[0m\u001b[0;34m\u001b[0m\u001b[0m\n\u001b[0m\u001b[1;32m      2\u001b[0m \u001b[0mplt\u001b[0m\u001b[0;34m.\u001b[0m\u001b[0mhist\u001b[0m\u001b[0;34m(\u001b[0m\u001b[0mtestpop\u001b[0m\u001b[0;34m.\u001b[0m\u001b[0mstars\u001b[0m\u001b[0;34m[\u001b[0m\u001b[0;34m'mass_B'\u001b[0m\u001b[0;34m]\u001b[0m\u001b[0;34m,\u001b[0m \u001b[0mhisttype\u001b[0m\u001b[0;34m=\u001b[0m\u001b[0;34m'step'\u001b[0m\u001b[0;34m,\u001b[0m \u001b[0mnormed\u001b[0m\u001b[0;34m=\u001b[0m\u001b[0mTrue\u001b[0m\u001b[0;34m)\u001b[0m\u001b[0;34m\u001b[0m\u001b[0m\n",
        "\u001b[0;32m/Users/tdm/anaconda/lib/python2.7/site-packages/matplotlib/pyplot.pyc\u001b[0m in \u001b[0;36mhist\u001b[0;34m(x, bins, range, normed, weights, cumulative, bottom, histtype, align, orientation, rwidth, log, color, label, stacked, hold, **kwargs)\u001b[0m\n\u001b[1;32m   2894\u001b[0m                       \u001b[0mhisttype\u001b[0m\u001b[0;34m=\u001b[0m\u001b[0mhisttype\u001b[0m\u001b[0;34m,\u001b[0m \u001b[0malign\u001b[0m\u001b[0;34m=\u001b[0m\u001b[0malign\u001b[0m\u001b[0;34m,\u001b[0m \u001b[0morientation\u001b[0m\u001b[0;34m=\u001b[0m\u001b[0morientation\u001b[0m\u001b[0;34m,\u001b[0m\u001b[0;34m\u001b[0m\u001b[0m\n\u001b[1;32m   2895\u001b[0m                       \u001b[0mrwidth\u001b[0m\u001b[0;34m=\u001b[0m\u001b[0mrwidth\u001b[0m\u001b[0;34m,\u001b[0m \u001b[0mlog\u001b[0m\u001b[0;34m=\u001b[0m\u001b[0mlog\u001b[0m\u001b[0;34m,\u001b[0m \u001b[0mcolor\u001b[0m\u001b[0;34m=\u001b[0m\u001b[0mcolor\u001b[0m\u001b[0;34m,\u001b[0m \u001b[0mlabel\u001b[0m\u001b[0;34m=\u001b[0m\u001b[0mlabel\u001b[0m\u001b[0;34m,\u001b[0m\u001b[0;34m\u001b[0m\u001b[0m\n\u001b[0;32m-> 2896\u001b[0;31m                       stacked=stacked, **kwargs)\n\u001b[0m\u001b[1;32m   2897\u001b[0m         \u001b[0mdraw_if_interactive\u001b[0m\u001b[0;34m(\u001b[0m\u001b[0;34m)\u001b[0m\u001b[0;34m\u001b[0m\u001b[0m\n\u001b[1;32m   2898\u001b[0m     \u001b[0;32mfinally\u001b[0m\u001b[0;34m:\u001b[0m\u001b[0;34m\u001b[0m\u001b[0m\n",
        "\u001b[0;32m/Users/tdm/anaconda/lib/python2.7/site-packages/matplotlib/axes/_axes.pyc\u001b[0m in \u001b[0;36mhist\u001b[0;34m(self, x, bins, range, normed, weights, cumulative, bottom, histtype, align, orientation, rwidth, log, color, label, stacked, **kwargs)\u001b[0m\n\u001b[1;32m   5650\u001b[0m             \u001b[0;31m# this will automatically overwrite bins,\u001b[0m\u001b[0;34m\u001b[0m\u001b[0;34m\u001b[0m\u001b[0m\n\u001b[1;32m   5651\u001b[0m             \u001b[0;31m# so that each histogram uses the same bins\u001b[0m\u001b[0;34m\u001b[0m\u001b[0;34m\u001b[0m\u001b[0m\n\u001b[0;32m-> 5652\u001b[0;31m             \u001b[0mm\u001b[0m\u001b[0;34m,\u001b[0m \u001b[0mbins\u001b[0m \u001b[0;34m=\u001b[0m \u001b[0mnp\u001b[0m\u001b[0;34m.\u001b[0m\u001b[0mhistogram\u001b[0m\u001b[0;34m(\u001b[0m\u001b[0mx\u001b[0m\u001b[0;34m[\u001b[0m\u001b[0mi\u001b[0m\u001b[0;34m]\u001b[0m\u001b[0;34m,\u001b[0m \u001b[0mbins\u001b[0m\u001b[0;34m,\u001b[0m \u001b[0mweights\u001b[0m\u001b[0;34m=\u001b[0m\u001b[0mw\u001b[0m\u001b[0;34m[\u001b[0m\u001b[0mi\u001b[0m\u001b[0;34m]\u001b[0m\u001b[0;34m,\u001b[0m \u001b[0;34m**\u001b[0m\u001b[0mhist_kwargs\u001b[0m\u001b[0;34m)\u001b[0m\u001b[0;34m\u001b[0m\u001b[0m\n\u001b[0m\u001b[1;32m   5653\u001b[0m             \u001b[0mm\u001b[0m \u001b[0;34m=\u001b[0m \u001b[0mm\u001b[0m\u001b[0;34m.\u001b[0m\u001b[0mastype\u001b[0m\u001b[0;34m(\u001b[0m\u001b[0mfloat\u001b[0m\u001b[0;34m)\u001b[0m  \u001b[0;31m# causes problems later if it's an int\u001b[0m\u001b[0;34m\u001b[0m\u001b[0m\n\u001b[1;32m   5654\u001b[0m             \u001b[0;32mif\u001b[0m \u001b[0mmlast\u001b[0m \u001b[0;32mis\u001b[0m \u001b[0mNone\u001b[0m\u001b[0;34m:\u001b[0m\u001b[0;34m\u001b[0m\u001b[0m\n",
        "\u001b[0;32m/Users/tdm/anaconda/lib/python2.7/site-packages/numpy/lib/function_base.pyc\u001b[0m in \u001b[0;36mhistogram\u001b[0;34m(a, bins, range, normed, weights, density)\u001b[0m\n\u001b[1;32m    174\u001b[0m         \u001b[0;32mif\u001b[0m \u001b[0;34m(\u001b[0m\u001b[0mmn\u001b[0m \u001b[0;34m>\u001b[0m \u001b[0mmx\u001b[0m\u001b[0;34m)\u001b[0m\u001b[0;34m:\u001b[0m\u001b[0;34m\u001b[0m\u001b[0m\n\u001b[1;32m    175\u001b[0m             raise AttributeError(\n\u001b[0;32m--> 176\u001b[0;31m                 'max must be larger than min in range parameter.')\n\u001b[0m\u001b[1;32m    177\u001b[0m \u001b[0;34m\u001b[0m\u001b[0m\n\u001b[1;32m    178\u001b[0m     \u001b[0;32mif\u001b[0m \u001b[0;32mnot\u001b[0m \u001b[0miterable\u001b[0m\u001b[0;34m(\u001b[0m\u001b[0mbins\u001b[0m\u001b[0;34m)\u001b[0m\u001b[0;34m:\u001b[0m\u001b[0;34m\u001b[0m\u001b[0m\n",
        "\u001b[0;31mAttributeError\u001b[0m: max must be larger than min in range parameter."
       ]
      },
      {
       "metadata": {},
       "output_type": "display_data",
       "png": "[encoded data removed]",
       "text": [
        "<matplotlib.figure.Figure at 0x112fbf550>"
       ]
      }
     ],
     "prompt_number": 23
    },
    {
     "cell_type": "code",
     "collapsed": false,
     "input": [
      "from scipy.interpolate import LinearNDInterpolator"
     ],
     "language": "python",
     "metadata": {},
     "outputs": [],
     "prompt_number": 59
    },
    {
     "cell_type": "code",
     "collapsed": false,
     "input": [
      "LinearNDInterpolator?"
     ],
     "language": "python",
     "metadata": {},
     "outputs": [],
     "prompt_number": 60
    },
    {
     "cell_type": "code",
     "collapsed": false,
     "input": [
      "bgpop._properties"
     ],
     "language": "python",
     "metadata": {},
     "outputs": [
      {
       "metadata": {},
       "output_type": "pyout",
       "prompt_number": 146,
       "text": [
        "['trilegal_args', 'mags', '_maxrad', 'density', 'name']"
       ]
      }
     ],
     "prompt_number": 146
    },
    {
     "cell_type": "code",
     "collapsed": false,
     "input": [
      "bgpop.trilegal_args"
     ],
     "language": "python",
     "metadata": {},
     "outputs": [
      {
       "metadata": {},
       "output_type": "pyout",
       "prompt_number": 147,
       "text": [
        "{'AV': 0.187,\n",
        " 'area': 1,\n",
        " 'b': 15.792341021533613,\n",
        " 'binaries': False,\n",
        " 'filterset': 'kepler_2mass',\n",
        " 'l': 79.0919611755139,\n",
        " 'maglim': 27,\n",
        " 'sigma_AV': 0.1,\n",
        " 'version': '1.6'}"
       ]
      }
     ],
     "prompt_number": 147
    },
    {
     "cell_type": "code",
     "collapsed": false,
     "input": [
      "bgpop.density"
     ],
     "language": "python",
     "metadata": {},
     "outputs": [
      {
       "latex": [
        "$124962 \\; \\mathrm{\\frac{1}{{}^{\\circ}^{2}}}$"
       ],
       "metadata": {},
       "output_type": "pyout",
       "prompt_number": 151,
       "text": [
        "<Quantity 124962.0 1 / deg2>"
       ]
      }
     ],
     "prompt_number": 151
    },
    {
     "cell_type": "code",
     "collapsed": false,
     "input": [
      "pop"
     ],
     "language": "python",
     "metadata": {},
     "outputs": [
      {
       "ename": "NameError",
       "evalue": "name 'pop' is not defined",
       "output_type": "pyerr",
       "traceback": [
        "\u001b[0;31m---------------------------------------------------------------------------\u001b[0m\n\u001b[0;31mNameError\u001b[0m                                 Traceback (most recent call last)",
        "\u001b[0;32m<ipython-input-152-a16dcb754991>\u001b[0m in \u001b[0;36m<module>\u001b[0;34m()\u001b[0m\n\u001b[0;32m----> 1\u001b[0;31m \u001b[0mpop\u001b[0m\u001b[0;34m\u001b[0m\u001b[0m\n\u001b[0m",
        "\u001b[0;31mNameError\u001b[0m: name 'pop' is not defined"
       ]
      }
     ],
     "prompt_number": 152
    },
    {
     "cell_type": "code",
     "collapsed": false,
     "input": [
      "MAfn = MAInterpolationFunction(pmin=0.05, pmax=1/0.05)"
     ],
     "language": "python",
     "metadata": {},
     "outputs": [],
     "prompt_number": 5
    },
    {
     "cell_type": "code",
     "collapsed": false,
     "input": [
      "bgpop = BGEBPopulation(trilegal_filename='kep22field.h5', period=200,\n",
      "                       MAfn=MAfn, n=2e4)"
     ],
     "language": "python",
     "metadata": {},
     "outputs": [
      {
       "output_type": "stream",
       "stream": "stderr",
       "text": [
        "INFO:root:364 BGEB systems generated (target 20000)\n"
       ]
      },
      {
       "output_type": "stream",
       "stream": "stderr",
       "text": [
        "INFO:root:8220 BGEB systems generated (target 20000)\n"
       ]
      },
      {
       "output_type": "stream",
       "stream": "stderr",
       "text": [
        "INFO:root:16188 BGEB systems generated (target 20000)\n"
       ]
      },
      {
       "output_type": "stream",
       "stream": "stderr",
       "text": [
        "INFO:root:20997 BGEB systems generated (target 20000)\n"
       ]
      },
      {
       "output_type": "stream",
       "stream": "stderr",
       "text": [
        "WARNING:root:Must do trapezoid fits before making KDE.\n"
       ]
      }
     ],
     "prompt_number": 6
    },
    {
     "cell_type": "code",
     "collapsed": false,
     "input": [
      "np.arange(1e2)"
     ],
     "language": "python",
     "metadata": {},
     "outputs": [
      {
       "metadata": {},
       "output_type": "pyout",
       "prompt_number": 9,
       "text": [
        "array([  0.,   1.,   2.,   3.,   4.,   5.,   6.,   7.,   8.,   9.,  10.,\n",
        "        11.,  12.,  13.,  14.,  15.,  16.,  17.,  18.,  19.,  20.,  21.,\n",
        "        22.,  23.,  24.,  25.,  26.,  27.,  28.,  29.,  30.,  31.,  32.,\n",
        "        33.,  34.,  35.,  36.,  37.,  38.,  39.,  40.,  41.,  42.,  43.,\n",
        "        44.,  45.,  46.,  47.,  48.,  49.,  50.,  51.,  52.,  53.,  54.,\n",
        "        55.,  56.,  57.,  58.,  59.,  60.,  61.,  62.,  63.,  64.,  65.,\n",
        "        66.,  67.,  68.,  69.,  70.,  71.,  72.,  73.,  74.,  75.,  76.,\n",
        "        77.,  78.,  79.,  80.,  81.,  82.,  83.,  84.,  85.,  86.,  87.,\n",
        "        88.,  89.,  90.,  91.,  92.,  93.,  94.,  95.,  96.,  97.,  98.,\n",
        "        99.])"
       ]
      }
     ],
     "prompt_number": 9
    },
    {
     "cell_type": "code",
     "collapsed": false,
     "input": [],
     "language": "python",
     "metadata": {},
     "outputs": []
    }
   ],
   "metadata": {}
  }
 ]
}