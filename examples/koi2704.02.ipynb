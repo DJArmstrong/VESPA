{
 "metadata": {
  "name": "",
  "signature": "sha256:ec1a1777fd70fcde4e27c5f58943dbeee186d1624f896bf682e1680c414552ed"
 },
 "nbformat": 3,
 "nbformat_minor": 0,
 "worksheets": [
  {
   "cells": [
    {
     "cell_type": "code",
     "collapsed": false,
     "input": [
      "%matplotlib inline\n",
      "\n",
      "import numpy as np\n",
      "import time\n",
      "import matplotlib.pyplot as plt\n",
      "\n",
      "from vespa.transitsignal import TransitSignal_ASCII\n",
      "from vespa.populations import HEBPopulation, EBPopulation\n",
      "from vespa.populations import BEBPopulation, PlanetPopulation\n",
      "\n",
      "from vespa.transit_basic import MAInterpolationFunction\n",
      "\n",
      "from keputils import koiutils as ku\n",
      "\n",
      "import logging\n",
      "rootLogger = logging.getLogger()\n",
      "rootLogger.setLevel(logging.INFO)"
     ],
     "language": "python",
     "metadata": {},
     "outputs": [
      {
       "output_type": "stream",
       "stream": "stderr",
       "text": [
        "/u/tdm/anaconda/lib/python2.7/site-packages/setuptools-7.0-py2.7.egg/pkg_resources.py:1045: UserWarning: /u/tdm/.python-eggs is writable by group/others and vulnerable to attack when used with get_resource_filename. Consider a more secure location (set with .set_extraction_path or the PYTHON_EGG_CACHE environment variable).\n"
       ]
      }
     ],
     "prompt_number": 1
    },
    {
     "cell_type": "code",
     "collapsed": false,
     "input": [
      "import warnings\n",
      "warnings.simplefilter(\"error\")\n",
      "warnings.simplefilter(\"ignore\", DeprecationWarning)"
     ],
     "language": "python",
     "metadata": {},
     "outputs": [],
     "prompt_number": 2
    },
    {
     "cell_type": "code",
     "collapsed": false,
     "input": [
      "ra,dec = ku.radec(2704)\n",
      "mags = ku.KICmags(2704)\n",
      "mass = (0.18, 0.04)\n",
      "radius = (0.21, 0.03)\n",
      "feh = (0.27, 0.13)\n",
      "age = (9.7,0.1)\n",
      "Teff = 3147\n",
      "logg = 4.9\n",
      "period = ku.get_property(2704,'koi_period')"
     ],
     "language": "python",
     "metadata": {},
     "outputs": [],
     "prompt_number": 3
    },
    {
     "cell_type": "code",
     "collapsed": false,
     "input": [
      "MAfn = MAInterpolationFunction(pmin=0.007, pmax=1/0.007, nzs=200, nps=400)"
     ],
     "language": "python",
     "metadata": {},
     "outputs": [],
     "prompt_number": 4
    },
    {
     "cell_type": "code",
     "collapsed": false,
     "input": [
      "#uncomment below if you want to redo the simulations/fits\n",
      "n = 5e3\n",
      "hebpop = HEBPopulation(mass=mass, age=age, feh=feh, colors=[],\n",
      "                       period=period, mags=mags, MAfn=MAfn, n=n)\n",
      "t0 = time.time()\n",
      "hebpop.fit_trapezoids(MAfn=MAfn)\n",
      "t1 = time.time()\n",
      "print 'Fitting {} systems took {:.2f} minutes.'.format(n,(t1-t0)/60)\n",
      "hebpop.save_hdf('heb_2704.02.h5', overwrite=True)\n",
      "\n",
      "hebpop = HEBPopulation().load_hdf('heb_2704.02.h5')"
     ],
     "language": "python",
     "metadata": {},
     "outputs": [
      {
       "output_type": "stream",
       "stream": "stderr",
       "text": [
        "INFO:root:3528 systems simulated to match provided colors (target 5000).\n"
       ]
      },
      {
       "output_type": "stream",
       "stream": "stderr",
       "text": [
        "INFO:root:5281 systems simulated to match provided colors (target 5000).\n"
       ]
      },
      {
       "output_type": "stream",
       "stream": "stderr",
       "text": [
        "INFO:root:3717 eclipsing HEB systems generated (target 5000)\n"
       ]
      },
      {
       "output_type": "stream",
       "stream": "stderr",
       "text": [
        "INFO:root:1482 systems simulated to match provided colors (target 2071).\n"
       ]
      },
      {
       "output_type": "stream",
       "stream": "stderr",
       "text": [
        "INFO:root:2159 systems simulated to match provided colors (target 2071).\n"
       ]
      },
      {
       "output_type": "stream",
       "stream": "stderr",
       "text": [
        "INFO:root:5138 eclipsing HEB systems generated (target 5000)\n"
       ]
      },
      {
       "output_type": "stream",
       "stream": "stderr",
       "text": [
        "WARNING:root:Must do trapezoid fits before making KDE.\n"
       ]
      },
      {
       "output_type": "stream",
       "stream": "stderr",
       "text": [
        "HEBs: fitting shape parameters for 5000 systems:   0% |        | ETA:  --:--:--\r",
        "HEBs: fitting shape parameters for 5000 systems:   1% |         | ETA:  0:01:00\r"
       ]
      },
      {
       "output_type": "stream",
       "stream": "stderr",
       "text": [
        "HEBs: fitting shape parameters for 5000 systems:   2% |         | ETA:  0:00:59\r",
        "HEBs: fitting shape parameters for 5000 systems:   3% |         | ETA:  0:00:58\r"
       ]
      },
      {
       "output_type": "stream",
       "stream": "stderr",
       "text": [
        "HEBs: fitting shape parameters for 5000 systems:   4% |         | ETA:  0:00:57\r",
        "HEBs: fitting shape parameters for 5000 systems:   5% |         | ETA:  0:00:56\r"
       ]
      },
      {
       "output_type": "stream",
       "stream": "stderr",
       "text": [
        "HEBs: fitting shape parameters for 5000 systems:   6% |         | ETA:  0:00:55\r",
        "HEBs: fitting shape parameters for 5000 systems:   7% |         | ETA:  0:00:54\r"
       ]
      },
      {
       "output_type": "stream",
       "stream": "stderr",
       "text": [
        "HEBs: fitting shape parameters for 5000 systems:   8% |         | ETA:  0:00:54\r",
        "HEBs: fitting shape parameters for 5000 systems:   9% |         | ETA:  0:00:53\r"
       ]
      },
      {
       "output_type": "stream",
       "stream": "stderr",
       "text": [
        "HEBs: fitting shape parameters for 5000 systems:  10% |         | ETA:  0:00:53\r",
        "HEBs: fitting shape parameters for 5000 systems:  11% |         | ETA:  0:00:52\r"
       ]
      },
      {
       "output_type": "stream",
       "stream": "stderr",
       "text": [
        "HEBs: fitting shape parameters for 5000 systems:  12% ||        | ETA:  0:00:51\r",
        "HEBs: fitting shape parameters for 5000 systems:  13% |/        | ETA:  0:00:51\r"
       ]
      },
      {
       "output_type": "stream",
       "stream": "stderr",
       "text": [
        "HEBs: fitting shape parameters for 5000 systems:  14% |-        | ETA:  0:00:50\r",
        "HEBs: fitting shape parameters for 5000 systems:  15% |\\        | ETA:  0:00:49\r"
       ]
      },
      {
       "output_type": "stream",
       "stream": "stderr",
       "text": [
        "HEBs: fitting shape parameters for 5000 systems:  16% ||        | ETA:  0:00:49\r",
        "HEBs: fitting shape parameters for 5000 systems:  17% |/        | ETA:  0:00:48\r"
       ]
      },
      {
       "output_type": "stream",
       "stream": "stderr",
       "text": [
        "HEBs: fitting shape parameters for 5000 systems:  18% |-        | ETA:  0:00:47\r",
        "HEBs: fitting shape parameters for 5000 systems:  19% |\\        | ETA:  0:00:47\r"
       ]
      },
      {
       "output_type": "stream",
       "stream": "stderr",
       "text": [
        "HEBs: fitting shape parameters for 5000 systems:  20% ||        | ETA:  0:00:46\r",
        "HEBs: fitting shape parameters for 5000 systems:  21% |/        | ETA:  0:00:45\r"
       ]
      },
      {
       "output_type": "stream",
       "stream": "stderr",
       "text": [
        "HEBs: fitting shape parameters for 5000 systems:  22% |-        | ETA:  0:00:45\r",
        "HEBs: fitting shape parameters for 5000 systems:  23% |\\\\       | ETA:  0:00:44\r"
       ]
      },
      {
       "output_type": "stream",
       "stream": "stderr",
       "text": [
        "HEBs: fitting shape parameters for 5000 systems:  24% |||       | ETA:  0:00:44\r",
        "HEBs: fitting shape parameters for 5000 systems:  25% |//       | ETA:  0:00:43\r"
       ]
      },
      {
       "output_type": "stream",
       "stream": "stderr",
       "text": [
        "HEBs: fitting shape parameters for 5000 systems:  26% |--       | ETA:  0:00:42\r",
        "HEBs: fitting shape parameters for 5000 systems:  27% |\\\\       | ETA:  0:00:42\r"
       ]
      },
      {
       "output_type": "stream",
       "stream": "stderr",
       "text": [
        "HEBs: fitting shape parameters for 5000 systems:  28% |||       | ETA:  0:00:41\r",
        "HEBs: fitting shape parameters for 5000 systems:  29% |//       | ETA:  0:00:41\r"
       ]
      },
      {
       "output_type": "stream",
       "stream": "stderr",
       "text": [
        "HEBs: fitting shape parameters for 5000 systems:  30% |--       | ETA:  0:00:40\r",
        "HEBs: fitting shape parameters for 5000 systems:  31% |\\\\       | ETA:  0:00:39\r"
       ]
      },
      {
       "output_type": "stream",
       "stream": "stderr",
       "text": [
        "HEBs: fitting shape parameters for 5000 systems:  32% |||       | ETA:  0:00:39\r",
        "HEBs: fitting shape parameters for 5000 systems:  33% |//       | ETA:  0:00:38\r"
       ]
      },
      {
       "output_type": "stream",
       "stream": "stderr",
       "text": [
        "HEBs: fitting shape parameters for 5000 systems:  34% |---      | ETA:  0:00:38\r",
        "HEBs: fitting shape parameters for 5000 systems:  35% |\\\\\\      | ETA:  0:00:37\r"
       ]
      },
      {
       "output_type": "stream",
       "stream": "stderr",
       "text": [
        "HEBs: fitting shape parameters for 5000 systems:  36% ||||      | ETA:  0:00:36\r",
        "HEBs: fitting shape parameters for 5000 systems:  37% |///      | ETA:  0:00:36\r"
       ]
      },
      {
       "output_type": "stream",
       "stream": "stderr",
       "text": [
        "HEBs: fitting shape parameters for 5000 systems:  38% |---      | ETA:  0:00:35\r",
        "HEBs: fitting shape parameters for 5000 systems:  39% |\\\\\\      | ETA:  0:00:35\r"
       ]
      },
      {
       "output_type": "stream",
       "stream": "stderr",
       "text": [
        "HEBs: fitting shape parameters for 5000 systems:  40% ||||      | ETA:  0:00:34\r",
        "HEBs: fitting shape parameters for 5000 systems:  41% |///      | ETA:  0:00:33\r"
       ]
      },
      {
       "output_type": "stream",
       "stream": "stderr",
       "text": [
        "HEBs: fitting shape parameters for 5000 systems:  42% |---      | ETA:  0:00:33\r",
        "HEBs: fitting shape parameters for 5000 systems:  43% |\\\\\\      | ETA:  0:00:32\r"
       ]
      },
      {
       "output_type": "stream",
       "stream": "stderr",
       "text": [
        "HEBs: fitting shape parameters for 5000 systems:  44% ||||      | ETA:  0:00:32\r",
        "HEBs: fitting shape parameters for 5000 systems:  45% |////     | ETA:  0:00:31\r"
       ]
      },
      {
       "output_type": "stream",
       "stream": "stderr",
       "text": [
        "HEBs: fitting shape parameters for 5000 systems:  46% |----     | ETA:  0:00:31\r",
        "HEBs: fitting shape parameters for 5000 systems:  47% |\\\\\\\\     | ETA:  0:00:30\r"
       ]
      },
      {
       "output_type": "stream",
       "stream": "stderr",
       "text": [
        "HEBs: fitting shape parameters for 5000 systems:  48% |||||     | ETA:  0:00:29\r",
        "HEBs: fitting shape parameters for 5000 systems:  49% |////     | ETA:  0:00:29\r"
       ]
      },
      {
       "output_type": "stream",
       "stream": "stderr",
       "text": [
        "HEBs: fitting shape parameters for 5000 systems:  50% |----     | ETA:  0:00:28\r",
        "HEBs: fitting shape parameters for 5000 systems:  51% |\\\\\\\\     | ETA:  0:00:28\r"
       ]
      },
      {
       "output_type": "stream",
       "stream": "stderr",
       "text": [
        "HEBs: fitting shape parameters for 5000 systems:  52% |||||     | ETA:  0:00:27\r",
        "HEBs: fitting shape parameters for 5000 systems:  53% |////     | ETA:  0:00:26\r"
       ]
      },
      {
       "output_type": "stream",
       "stream": "stderr",
       "text": [
        "HEBs: fitting shape parameters for 5000 systems:  54% |----     | ETA:  0:00:26\r",
        "HEBs: fitting shape parameters for 5000 systems:  55% |\\\\\\\\     | ETA:  0:00:25\r"
       ]
      },
      {
       "output_type": "stream",
       "stream": "stderr",
       "text": [
        "HEBs: fitting shape parameters for 5000 systems:  56% ||||||    | ETA:  0:00:25\r",
        "HEBs: fitting shape parameters for 5000 systems:  57% |/////    | ETA:  0:00:24\r"
       ]
      },
      {
       "output_type": "stream",
       "stream": "stderr",
       "text": [
        "HEBs: fitting shape parameters for 5000 systems:  58% |-----    | ETA:  0:00:24\r",
        "HEBs: fitting shape parameters for 5000 systems:  59% |\\\\\\\\\\    | ETA:  0:00:23\r"
       ]
      },
      {
       "output_type": "stream",
       "stream": "stderr",
       "text": [
        "HEBs: fitting shape parameters for 5000 systems:  60% ||||||    | ETA:  0:00:22\r",
        "HEBs: fitting shape parameters for 5000 systems:  61% |/////    | ETA:  0:00:22\r"
       ]
      },
      {
       "output_type": "stream",
       "stream": "stderr",
       "text": [
        "HEBs: fitting shape parameters for 5000 systems:  62% |-----    | ETA:  0:00:21\r",
        "HEBs: fitting shape parameters for 5000 systems:  63% |\\\\\\\\\\    | ETA:  0:00:21\r"
       ]
      },
      {
       "output_type": "stream",
       "stream": "stderr",
       "text": [
        "HEBs: fitting shape parameters for 5000 systems:  64% ||||||    | ETA:  0:00:20\r",
        "HEBs: fitting shape parameters for 5000 systems:  65% |/////    | ETA:  0:00:20\r"
       ]
      },
      {
       "output_type": "stream",
       "stream": "stderr",
       "text": [
        "HEBs: fitting shape parameters for 5000 systems:  66% |-----    | ETA:  0:00:19\r",
        "HEBs: fitting shape parameters for 5000 systems:  67% |\\\\\\\\\\\\   | ETA:  0:00:18\r"
       ]
      },
      {
       "output_type": "stream",
       "stream": "stderr",
       "text": [
        "HEBs: fitting shape parameters for 5000 systems:  68% |||||||   | ETA:  0:00:18\r",
        "HEBs: fitting shape parameters for 5000 systems:  69% |//////   | ETA:  0:00:17\r"
       ]
      },
      {
       "output_type": "stream",
       "stream": "stderr",
       "text": [
        "ERROR:root:No eclipse registered for index 3458\n"
       ]
      },
      {
       "output_type": "stream",
       "stream": "stderr",
       "text": [
        "HEBs: fitting shape parameters for 5000 systems:  70% |------   | ETA:  0:00:17\r",
        "HEBs: fitting shape parameters for 5000 systems:  71% |\\\\\\\\\\\\   | ETA:  0:00:16\r"
       ]
      },
      {
       "output_type": "stream",
       "stream": "stderr",
       "text": [
        "HEBs: fitting shape parameters for 5000 systems:  72% |||||||   | ETA:  0:00:15\r",
        "HEBs: fitting shape parameters for 5000 systems:  73% |//////   | ETA:  0:00:15\r"
       ]
      },
      {
       "output_type": "stream",
       "stream": "stderr",
       "text": [
        "HEBs: fitting shape parameters for 5000 systems:  74% |------   | ETA:  0:00:14\r",
        "HEBs: fitting shape parameters for 5000 systems:  75% |\\\\\\\\\\\\   | ETA:  0:00:14\r"
       ]
      },
      {
       "output_type": "stream",
       "stream": "stderr",
       "text": [
        "HEBs: fitting shape parameters for 5000 systems:  76% |||||||   | ETA:  0:00:13\r",
        "HEBs: fitting shape parameters for 5000 systems:  77% |//////   | ETA:  0:00:13\r"
       ]
      },
      {
       "output_type": "stream",
       "stream": "stderr",
       "text": [
        "HEBs: fitting shape parameters for 5000 systems:  78% |-------  | ETA:  0:00:12\r",
        "HEBs: fitting shape parameters for 5000 systems:  79% |\\\\\\\\\\\\\\  | ETA:  0:00:11\r"
       ]
      },
      {
       "output_type": "stream",
       "stream": "stderr",
       "text": [
        "HEBs: fitting shape parameters for 5000 systems:  80% ||||||||  | ETA:  0:00:11\r",
        "HEBs: fitting shape parameters for 5000 systems:  81% |///////  | ETA:  0:00:10\r"
       ]
      },
      {
       "output_type": "stream",
       "stream": "stderr",
       "text": [
        "HEBs: fitting shape parameters for 5000 systems:  82% |-------  | ETA:  0:00:10\r",
        "HEBs: fitting shape parameters for 5000 systems:  83% |\\\\\\\\\\\\\\  | ETA:  0:00:09\r"
       ]
      },
      {
       "output_type": "stream",
       "stream": "stderr",
       "text": [
        "HEBs: fitting shape parameters for 5000 systems:  84% ||||||||  | ETA:  0:00:09\r",
        "HEBs: fitting shape parameters for 5000 systems:  85% |///////  | ETA:  0:00:08\r"
       ]
      },
      {
       "output_type": "stream",
       "stream": "stderr",
       "text": [
        "HEBs: fitting shape parameters for 5000 systems:  86% |-------  | ETA:  0:00:07\r",
        "HEBs: fitting shape parameters for 5000 systems:  87% |\\\\\\\\\\\\\\  | ETA:  0:00:07\r"
       ]
      },
      {
       "output_type": "stream",
       "stream": "stderr",
       "text": [
        "HEBs: fitting shape parameters for 5000 systems:  88% ||||||||  | ETA:  0:00:06\r",
        "HEBs: fitting shape parameters for 5000 systems:  89% |//////// | ETA:  0:00:06\r"
       ]
      },
      {
       "output_type": "stream",
       "stream": "stderr",
       "text": [
        "HEBs: fitting shape parameters for 5000 systems:  90% |-------- | ETA:  0:00:05\r",
        "HEBs: fitting shape parameters for 5000 systems:  91% |\\\\\\\\\\\\\\\\ | ETA:  0:00:05\r"
       ]
      },
      {
       "output_type": "stream",
       "stream": "stderr",
       "text": [
        "HEBs: fitting shape parameters for 5000 systems:  92% ||||||||| | ETA:  0:00:04\r",
        "HEBs: fitting shape parameters for 5000 systems:  93% |//////// | ETA:  0:00:03\r"
       ]
      },
      {
       "output_type": "stream",
       "stream": "stderr",
       "text": [
        "HEBs: fitting shape parameters for 5000 systems:  94% |-------- | ETA:  0:00:03\r",
        "HEBs: fitting shape parameters for 5000 systems:  95% |\\\\\\\\\\\\\\\\ | ETA:  0:00:02\r"
       ]
      },
      {
       "output_type": "stream",
       "stream": "stderr",
       "text": [
        "HEBs: fitting shape parameters for 5000 systems:  96% ||||||||| | ETA:  0:00:02\r",
        "HEBs: fitting shape parameters for 5000 systems:  97% |//////// | ETA:  0:00:01\r"
       ]
      },
      {
       "output_type": "stream",
       "stream": "stderr",
       "text": [
        "HEBs: fitting shape parameters for 5000 systems:  98% |-------- | ETA:  0:00:01\r",
        "HEBs: fitting shape parameters for 5000 systems:  99% |\\\\\\\\\\\\\\\\ | ETA:  0:00:00\r"
       ]
      },
      {
       "output_type": "stream",
       "stream": "stdout",
       "text": [
        "Fitting 5000.0 systems took 0.95 minutes.\n"
       ]
      }
     ],
     "prompt_number": 7
    },
    {
     "cell_type": "code",
     "collapsed": false,
     "input": [
      "#uncomment below if you want to redo the simulations/fits\n",
      "n = 5e3\n",
      "ebpop = EBPopulation(mass=mass, age=age, feh=feh, colors=[],\n",
      "                       period=period, mags=mags, MAfn=MAfn, n=n)\n",
      "t0 = time.time()\n",
      "ebpop.fit_trapezoids(MAfn=MAfn)\n",
      "t1 = time.time()\n",
      "print 'Fitting {} systems took {:.2f} minutes.'.format(n,(t1-t0)/60)\n",
      "ebpop.save_hdf('eb_2704.02.h5', overwrite=True)\n",
      "\n",
      "ebpop = EBPopulation().load_hdf('eb_2704.02.h5')"
     ],
     "language": "python",
     "metadata": {},
     "outputs": [
      {
       "output_type": "stream",
       "stream": "stderr",
       "text": [
        "INFO:root:4684 systems simulated to match provided colors (target 5000).\n"
       ]
      },
      {
       "output_type": "stream",
       "stream": "stderr",
       "text": [
        "INFO:root:5075 systems simulated to match provided colors (target 5000).\n"
       ]
      },
      {
       "output_type": "stream",
       "stream": "stderr",
       "text": [
        "INFO:root:3854 Eclipsing EB systems generated (target 5000)\n"
       ]
      },
      {
       "output_type": "stream",
       "stream": "stderr",
       "text": [
        "INFO:root:1696 systems simulated to match provided colors (target 1784).\n"
       ]
      },
      {
       "output_type": "stream",
       "stream": "stderr",
       "text": [
        "INFO:root:1802 systems simulated to match provided colors (target 1784).\n"
       ]
      },
      {
       "output_type": "stream",
       "stream": "stderr",
       "text": [
        "INFO:root:5281 Eclipsing EB systems generated (target 5000)\n"
       ]
      },
      {
       "output_type": "stream",
       "stream": "stderr",
       "text": [
        "WARNING:root:Must do trapezoid fits before making KDE.\n"
       ]
      },
      {
       "output_type": "stream",
       "stream": "stderr",
       "text": [
        "EBs: fitting shape parameters for 5000 systems:   0% |         | ETA:  --:--:--\r",
        "EBs: fitting shape parameters for 5000 systems:   1% |          | ETA:  0:00:59\r"
       ]
      },
      {
       "output_type": "stream",
       "stream": "stderr",
       "text": [
        "EBs: fitting shape parameters for 5000 systems:   2% |          | ETA:  0:00:57\r",
        "EBs: fitting shape parameters for 5000 systems:   3% |          | ETA:  0:00:56\r"
       ]
      },
      {
       "output_type": "stream",
       "stream": "stderr",
       "text": [
        "EBs: fitting shape parameters for 5000 systems:   4% |          | ETA:  0:00:55\r",
        "EBs: fitting shape parameters for 5000 systems:   5% |          | ETA:  0:00:54\r"
       ]
      },
      {
       "output_type": "stream",
       "stream": "stderr",
       "text": [
        "EBs: fitting shape parameters for 5000 systems:   6% |          | ETA:  0:00:53\r",
        "EBs: fitting shape parameters for 5000 systems:   7% |          | ETA:  0:00:53\r"
       ]
      },
      {
       "output_type": "stream",
       "stream": "stderr",
       "text": [
        "EBs: fitting shape parameters for 5000 systems:   8% |          | ETA:  0:00:52\r",
        "EBs: fitting shape parameters for 5000 systems:   9% |          | ETA:  0:00:51\r"
       ]
      },
      {
       "output_type": "stream",
       "stream": "stderr",
       "text": [
        "EBs: fitting shape parameters for 5000 systems:  10% |-         | ETA:  0:00:51\r",
        "EBs: fitting shape parameters for 5000 systems:  11% |\\         | ETA:  0:00:50\r"
       ]
      },
      {
       "output_type": "stream",
       "stream": "stderr",
       "text": [
        "EBs: fitting shape parameters for 5000 systems:  12% ||         | ETA:  0:00:50\r",
        "EBs: fitting shape parameters for 5000 systems:  13% |/         | ETA:  0:00:49\r"
       ]
      },
      {
       "output_type": "stream",
       "stream": "stderr",
       "text": [
        "EBs: fitting shape parameters for 5000 systems:  14% |-         | ETA:  0:00:49\r",
        "EBs: fitting shape parameters for 5000 systems:  15% |\\         | ETA:  0:00:48\r"
       ]
      },
      {
       "output_type": "stream",
       "stream": "stderr",
       "text": [
        "EBs: fitting shape parameters for 5000 systems:  16% ||         | ETA:  0:00:48\r",
        "EBs: fitting shape parameters for 5000 systems:  17% |/         | ETA:  0:00:47\r"
       ]
      },
      {
       "output_type": "stream",
       "stream": "stderr",
       "text": [
        "EBs: fitting shape parameters for 5000 systems:  18% |-         | ETA:  0:00:47\r",
        "EBs: fitting shape parameters for 5000 systems:  19% |\\         | ETA:  0:00:46\r"
       ]
      },
      {
       "output_type": "stream",
       "stream": "stderr",
       "text": [
        "EBs: fitting shape parameters for 5000 systems:  20% |||        | ETA:  0:00:45\r",
        "EBs: fitting shape parameters for 5000 systems:  21% |//        | ETA:  0:00:45\r"
       ]
      },
      {
       "output_type": "stream",
       "stream": "stderr",
       "text": [
        "EBs: fitting shape parameters for 5000 systems:  22% |--        | ETA:  0:00:44\r",
        "EBs: fitting shape parameters for 5000 systems:  23% |\\\\        | ETA:  0:00:43\r"
       ]
      },
      {
       "output_type": "stream",
       "stream": "stderr",
       "text": [
        "EBs: fitting shape parameters for 5000 systems:  24% |||        | ETA:  0:00:43\r",
        "EBs: fitting shape parameters for 5000 systems:  25% |//        | ETA:  0:00:42\r"
       ]
      },
      {
       "output_type": "stream",
       "stream": "stderr",
       "text": [
        "EBs: fitting shape parameters for 5000 systems:  26% |--        | ETA:  0:00:42\r",
        "EBs: fitting shape parameters for 5000 systems:  27% |\\\\        | ETA:  0:00:41\r"
       ]
      },
      {
       "output_type": "stream",
       "stream": "stderr",
       "text": [
        "EBs: fitting shape parameters for 5000 systems:  28% |||        | ETA:  0:00:41\r",
        "EBs: fitting shape parameters for 5000 systems:  29% |//        | ETA:  0:00:40\r"
       ]
      },
      {
       "output_type": "stream",
       "stream": "stderr",
       "text": [
        "EBs: fitting shape parameters for 5000 systems:  30% |---       | ETA:  0:00:39\r",
        "EBs: fitting shape parameters for 5000 systems:  31% |\\\\\\       | ETA:  0:00:39\r"
       ]
      },
      {
       "output_type": "stream",
       "stream": "stderr",
       "text": [
        "EBs: fitting shape parameters for 5000 systems:  32% ||||       | ETA:  0:00:38\r",
        "ERROR:root:No eclipse registered for index 1632\n"
       ]
      },
      {
       "output_type": "stream",
       "stream": "stderr",
       "text": [
        "EBs: fitting shape parameters for 5000 systems:  33% |///       | ETA:  0:00:38\r",
        "EBs: fitting shape parameters for 5000 systems:  34% |---       | ETA:  0:00:37\r"
       ]
      },
      {
       "output_type": "stream",
       "stream": "stderr",
       "text": [
        "EBs: fitting shape parameters for 5000 systems:  35% |\\\\\\       | ETA:  0:00:37\r",
        "EBs: fitting shape parameters for 5000 systems:  36% ||||       | ETA:  0:00:36\r"
       ]
      },
      {
       "output_type": "stream",
       "stream": "stderr",
       "text": [
        "EBs: fitting shape parameters for 5000 systems:  37% |///       | ETA:  0:00:35\r",
        "EBs: fitting shape parameters for 5000 systems:  38% |---       | ETA:  0:00:35\r"
       ]
      },
      {
       "output_type": "stream",
       "stream": "stderr",
       "text": [
        "EBs: fitting shape parameters for 5000 systems:  39% |\\\\\\       | ETA:  0:00:34\r",
        "ERROR:root:No eclipse registered for index 1993\n"
       ]
      },
      {
       "output_type": "stream",
       "stream": "stderr",
       "text": [
        "EBs: fitting shape parameters for 5000 systems:  40% |||||      | ETA:  0:00:34\r",
        "EBs: fitting shape parameters for 5000 systems:  41% |////      | ETA:  0:00:33\r"
       ]
      },
      {
       "output_type": "stream",
       "stream": "stderr",
       "text": [
        "EBs: fitting shape parameters for 5000 systems:  42% |----      | ETA:  0:00:33\r",
        "EBs: fitting shape parameters for 5000 systems:  43% |\\\\\\\\      | ETA:  0:00:32\r"
       ]
      },
      {
       "output_type": "stream",
       "stream": "stderr",
       "text": [
        "EBs: fitting shape parameters for 5000 systems:  44% |||||      | ETA:  0:00:31\r",
        "EBs: fitting shape parameters for 5000 systems:  45% |////      | ETA:  0:00:31\r"
       ]
      },
      {
       "output_type": "stream",
       "stream": "stderr",
       "text": [
        "EBs: fitting shape parameters for 5000 systems:  46% |----      | ETA:  0:00:30\r",
        "EBs: fitting shape parameters for 5000 systems:  47% |\\\\\\\\      | ETA:  0:00:30\r"
       ]
      },
      {
       "output_type": "stream",
       "stream": "stderr",
       "text": [
        "EBs: fitting shape parameters for 5000 systems:  48% |||||      | ETA:  0:00:29\r",
        "EBs: fitting shape parameters for 5000 systems:  49% |////      | ETA:  0:00:29\r"
       ]
      },
      {
       "output_type": "stream",
       "stream": "stderr",
       "text": [
        "EBs: fitting shape parameters for 5000 systems:  50% |-----     | ETA:  0:00:28\r",
        "EBs: fitting shape parameters for 5000 systems:  51% |\\\\\\\\\\     | ETA:  0:00:28\r"
       ]
      },
      {
       "output_type": "stream",
       "stream": "stderr",
       "text": [
        "EBs: fitting shape parameters for 5000 systems:  52% ||||||     | ETA:  0:00:27\r",
        "EBs: fitting shape parameters for 5000 systems:  53% |/////     | ETA:  0:00:26\r"
       ]
      },
      {
       "output_type": "stream",
       "stream": "stderr",
       "text": [
        "EBs: fitting shape parameters for 5000 systems:  54% |-----     | ETA:  0:00:26\r",
        "EBs: fitting shape parameters for 5000 systems:  55% |\\\\\\\\\\     | ETA:  0:00:25\r"
       ]
      },
      {
       "output_type": "stream",
       "stream": "stderr",
       "text": [
        "EBs: fitting shape parameters for 5000 systems:  56% ||||||     | ETA:  0:00:25\r",
        "EBs: fitting shape parameters for 5000 systems:  57% |/////     | ETA:  0:00:24\r"
       ]
      },
      {
       "output_type": "stream",
       "stream": "stderr",
       "text": [
        "EBs: fitting shape parameters for 5000 systems:  58% |-----     | ETA:  0:00:24\r",
        "EBs: fitting shape parameters for 5000 systems:  59% |\\\\\\\\\\     | ETA:  0:00:23\r"
       ]
      },
      {
       "output_type": "stream",
       "stream": "stderr",
       "text": [
        "EBs: fitting shape parameters for 5000 systems:  60% |||||||    | ETA:  0:00:22\r",
        "EBs: fitting shape parameters for 5000 systems:  61% |//////    | ETA:  0:00:22\r"
       ]
      },
      {
       "output_type": "stream",
       "stream": "stderr",
       "text": [
        "EBs: fitting shape parameters for 5000 systems:  62% |------    | ETA:  0:00:21\r",
        "EBs: fitting shape parameters for 5000 systems:  63% |\\\\\\\\\\\\    | ETA:  0:00:21\r"
       ]
      },
      {
       "output_type": "stream",
       "stream": "stderr",
       "text": [
        "EBs: fitting shape parameters for 5000 systems:  64% |||||||    | ETA:  0:00:20\r",
        "EBs: fitting shape parameters for 5000 systems:  65% |//////    | ETA:  0:00:20\r"
       ]
      },
      {
       "output_type": "stream",
       "stream": "stderr",
       "text": [
        "EBs: fitting shape parameters for 5000 systems:  66% |------    | ETA:  0:00:19\r",
        "EBs: fitting shape parameters for 5000 systems:  67% |\\\\\\\\\\\\    | ETA:  0:00:18\r"
       ]
      },
      {
       "output_type": "stream",
       "stream": "stderr",
       "text": [
        "EBs: fitting shape parameters for 5000 systems:  68% |||||||    | ETA:  0:00:18\r",
        "EBs: fitting shape parameters for 5000 systems:  69% |//////    | ETA:  0:00:17\r"
       ]
      },
      {
       "output_type": "stream",
       "stream": "stderr",
       "text": [
        "EBs: fitting shape parameters for 5000 systems:  70% |-------   | ETA:  0:00:17\r",
        "EBs: fitting shape parameters for 5000 systems:  71% |\\\\\\\\\\\\\\   | ETA:  0:00:16\r"
       ]
      },
      {
       "output_type": "stream",
       "stream": "stderr",
       "text": [
        "EBs: fitting shape parameters for 5000 systems:  72% ||||||||   | ETA:  0:00:16\r",
        "EBs: fitting shape parameters for 5000 systems:  73% |///////   | ETA:  0:00:15\r"
       ]
      },
      {
       "output_type": "stream",
       "stream": "stderr",
       "text": [
        "EBs: fitting shape parameters for 5000 systems:  74% |-------   | ETA:  0:00:14\r",
        "EBs: fitting shape parameters for 5000 systems:  75% |\\\\\\\\\\\\\\   | ETA:  0:00:14\r"
       ]
      },
      {
       "output_type": "stream",
       "stream": "stderr",
       "text": [
        "EBs: fitting shape parameters for 5000 systems:  76% ||||||||   | ETA:  0:00:13\r",
        "EBs: fitting shape parameters for 5000 systems:  77% |///////   | ETA:  0:00:13\r"
       ]
      },
      {
       "output_type": "stream",
       "stream": "stderr",
       "text": [
        "EBs: fitting shape parameters for 5000 systems:  78% |-------   | ETA:  0:00:12\r",
        "EBs: fitting shape parameters for 5000 systems:  79% |\\\\\\\\\\\\\\   | ETA:  0:00:12\r"
       ]
      },
      {
       "output_type": "stream",
       "stream": "stderr",
       "text": [
        "EBs: fitting shape parameters for 5000 systems:  80% |||||||||  | ETA:  0:00:11\r",
        "EBs: fitting shape parameters for 5000 systems:  81% |////////  | ETA:  0:00:10\r"
       ]
      },
      {
       "output_type": "stream",
       "stream": "stderr",
       "text": [
        "EBs: fitting shape parameters for 5000 systems:  82% |--------  | ETA:  0:00:10\r",
        "EBs: fitting shape parameters for 5000 systems:  83% |\\\\\\\\\\\\\\\\  | ETA:  0:00:09\r"
       ]
      },
      {
       "output_type": "stream",
       "stream": "stderr",
       "text": [
        "EBs: fitting shape parameters for 5000 systems:  84% |||||||||  | ETA:  0:00:09\r",
        "EBs: fitting shape parameters for 5000 systems:  85% |////////  | ETA:  0:00:08\r"
       ]
      },
      {
       "output_type": "stream",
       "stream": "stderr",
       "text": [
        "EBs: fitting shape parameters for 5000 systems:  86% |--------  | ETA:  0:00:08\r",
        "EBs: fitting shape parameters for 5000 systems:  87% |\\\\\\\\\\\\\\\\  | ETA:  0:00:07\r"
       ]
      },
      {
       "output_type": "stream",
       "stream": "stderr",
       "text": [
        "EBs: fitting shape parameters for 5000 systems:  88% |||||||||  | ETA:  0:00:06\r",
        "EBs: fitting shape parameters for 5000 systems:  89% |////////  | ETA:  0:00:06\r"
       ]
      },
      {
       "output_type": "stream",
       "stream": "stderr",
       "text": [
        "EBs: fitting shape parameters for 5000 systems:  90% |--------- | ETA:  0:00:05\r",
        "EBs: fitting shape parameters for 5000 systems:  91% |\\\\\\\\\\\\\\\\\\ | ETA:  0:00:05\r"
       ]
      },
      {
       "output_type": "stream",
       "stream": "stderr",
       "text": [
        "EBs: fitting shape parameters for 5000 systems:  92% |||||||||| | ETA:  0:00:04\r",
        "EBs: fitting shape parameters for 5000 systems:  93% |///////// | ETA:  0:00:04\r"
       ]
      },
      {
       "output_type": "stream",
       "stream": "stderr",
       "text": [
        "EBs: fitting shape parameters for 5000 systems:  94% |--------- | ETA:  0:00:03\r",
        "EBs: fitting shape parameters for 5000 systems:  95% |\\\\\\\\\\\\\\\\\\ | ETA:  0:00:02\r"
       ]
      },
      {
       "output_type": "stream",
       "stream": "stderr",
       "text": [
        "EBs: fitting shape parameters for 5000 systems:  96% |||||||||| | ETA:  0:00:02\r",
        "EBs: fitting shape parameters for 5000 systems:  97% |///////// | ETA:  0:00:01\r"
       ]
      },
      {
       "output_type": "stream",
       "stream": "stderr",
       "text": [
        "EBs: fitting shape parameters for 5000 systems:  98% |--------- | ETA:  0:00:01\r",
        "EBs: fitting shape parameters for 5000 systems:  99% |\\\\\\\\\\\\\\\\\\ | ETA:  0:00:00\r"
       ]
      },
      {
       "output_type": "stream",
       "stream": "stdout",
       "text": [
        "Fitting 5000.0 systems took 0.96 minutes.\n"
       ]
      }
     ],
     "prompt_number": 5
    },
    {
     "cell_type": "code",
     "collapsed": false,
     "input": [
      "#uncomment below if you want to redo the simulations/fits\n",
      "n = 5e3\n",
      "bebpop = BEBPopulation(trilegal_filename='2704_starfield.h5', \n",
      "                       ra=ra, dec=dec, period=period, mags=mags,\n",
      "                       MAfn=MAfn, n=5e3)\n",
      "t0 = time.time()\n",
      "bebpop.fit_trapezoids(MAfn=MAfn)\n",
      "t1 = time.time()\n",
      "print 'Fitting systems took {:.2f} minutes.'.format((t1-t0)/60)\n",
      "bebpop.save_hdf('beb_2704.02.h5', overwrite=True)\n",
      "bebpop = BEBPopulation().load_hdf('beb_2704.02.h5')"
     ],
     "language": "python",
     "metadata": {},
     "outputs": [
      {
       "output_type": "stream",
       "stream": "stderr",
       "text": [
        "INFO:root:37 binaries are \"too close\"; gave up trying to fix.\n"
       ]
      },
      {
       "output_type": "stream",
       "stream": "stderr",
       "text": [
        "INFO:root:559 BGEB systems generated (target 5000)\n"
       ]
      },
      {
       "output_type": "stream",
       "stream": "stderr",
       "text": [
        "INFO:root:345 binaries are \"too close\"; gave up trying to fix.\n"
       ]
      },
      {
       "output_type": "stream",
       "stream": "stderr",
       "text": [
        "INFO:root:5957 BGEB systems generated (target 5000)\n"
       ]
      },
      {
       "output_type": "stream",
       "stream": "stderr",
       "text": [
        "WARNING:root:Must do trapezoid fits before making KDE.\n"
       ]
      },
      {
       "output_type": "stream",
       "stream": "stderr",
       "text": [
        "BEBs: fitting shape parameters for 5000 systems:   0% |        | ETA:  --:--:--\r",
        "BEBs: fitting shape parameters for 5000 systems:   1% |         | ETA:  0:01:07\r"
       ]
      },
      {
       "output_type": "stream",
       "stream": "stderr",
       "text": [
        "BEBs: fitting shape parameters for 5000 systems:   2% |         | ETA:  0:01:03\r",
        "BEBs: fitting shape parameters for 5000 systems:   3% |         | ETA:  0:01:02\r"
       ]
      },
      {
       "output_type": "stream",
       "stream": "stderr",
       "text": [
        "BEBs: fitting shape parameters for 5000 systems:   4% |         | ETA:  0:01:00\r",
        "BEBs: fitting shape parameters for 5000 systems:   5% |         | ETA:  0:00:58\r"
       ]
      },
      {
       "output_type": "stream",
       "stream": "stderr",
       "text": [
        "BEBs: fitting shape parameters for 5000 systems:   6% |         | ETA:  0:00:57\r",
        "BEBs: fitting shape parameters for 5000 systems:   7% |         | ETA:  0:00:56\r"
       ]
      },
      {
       "output_type": "stream",
       "stream": "stderr",
       "text": [
        "BEBs: fitting shape parameters for 5000 systems:   8% |         | ETA:  0:00:55\r",
        "BEBs: fitting shape parameters for 5000 systems:   9% |         | ETA:  0:00:55\r"
       ]
      },
      {
       "output_type": "stream",
       "stream": "stderr",
       "text": [
        "BEBs: fitting shape parameters for 5000 systems:  10% |         | ETA:  0:00:54\r",
        "BEBs: fitting shape parameters for 5000 systems:  11% |         | ETA:  0:00:53\r"
       ]
      },
      {
       "output_type": "stream",
       "stream": "stderr",
       "text": [
        "BEBs: fitting shape parameters for 5000 systems:  12% ||        | ETA:  0:00:53\r",
        "BEBs: fitting shape parameters for 5000 systems:  13% |/        | ETA:  0:00:52\r"
       ]
      },
      {
       "output_type": "stream",
       "stream": "stderr",
       "text": [
        "BEBs: fitting shape parameters for 5000 systems:  14% |-        | ETA:  0:00:52\r",
        "BEBs: fitting shape parameters for 5000 systems:  15% |\\        | ETA:  0:00:51\r"
       ]
      },
      {
       "output_type": "stream",
       "stream": "stderr",
       "text": [
        "BEBs: fitting shape parameters for 5000 systems:  16% ||        | ETA:  0:00:50\r",
        "BEBs: fitting shape parameters for 5000 systems:  17% |/        | ETA:  0:00:50\r"
       ]
      },
      {
       "output_type": "stream",
       "stream": "stderr",
       "text": [
        "BEBs: fitting shape parameters for 5000 systems:  18% |-        | ETA:  0:00:49\r",
        "BEBs: fitting shape parameters for 5000 systems:  19% |\\        | ETA:  0:00:48\r"
       ]
      },
      {
       "output_type": "stream",
       "stream": "stderr",
       "text": [
        "BEBs: fitting shape parameters for 5000 systems:  20% ||        | ETA:  0:00:48\r",
        "BEBs: fitting shape parameters for 5000 systems:  21% |/        | ETA:  0:00:47\r"
       ]
      },
      {
       "output_type": "stream",
       "stream": "stderr",
       "text": [
        "BEBs: fitting shape parameters for 5000 systems:  22% |-        | ETA:  0:00:47\r",
        "BEBs: fitting shape parameters for 5000 systems:  23% |\\\\       | ETA:  0:00:46\r"
       ]
      },
      {
       "output_type": "stream",
       "stream": "stderr",
       "text": [
        "BEBs: fitting shape parameters for 5000 systems:  24% |||       | ETA:  0:00:45\r",
        "BEBs: fitting shape parameters for 5000 systems:  25% |//       | ETA:  0:00:45\r"
       ]
      },
      {
       "output_type": "stream",
       "stream": "stderr",
       "text": [
        "BEBs: fitting shape parameters for 5000 systems:  26% |--       | ETA:  0:00:44\r",
        "BEBs: fitting shape parameters for 5000 systems:  27% |\\\\       | ETA:  0:00:44\r"
       ]
      },
      {
       "output_type": "stream",
       "stream": "stderr",
       "text": [
        "BEBs: fitting shape parameters for 5000 systems:  28% |||       | ETA:  0:00:43\r",
        "BEBs: fitting shape parameters for 5000 systems:  29% |//       | ETA:  0:00:42\r"
       ]
      },
      {
       "output_type": "stream",
       "stream": "stderr",
       "text": [
        "BEBs: fitting shape parameters for 5000 systems:  30% |--       | ETA:  0:00:42\r",
        "BEBs: fitting shape parameters for 5000 systems:  31% |\\\\       | ETA:  0:00:41\r"
       ]
      },
      {
       "output_type": "stream",
       "stream": "stderr",
       "text": [
        "BEBs: fitting shape parameters for 5000 systems:  32% |||       | ETA:  0:00:40\r",
        "BEBs: fitting shape parameters for 5000 systems:  33% |//       | ETA:  0:00:40\r"
       ]
      },
      {
       "output_type": "stream",
       "stream": "stderr",
       "text": [
        "BEBs: fitting shape parameters for 5000 systems:  34% |---      | ETA:  0:00:39\r",
        "BEBs: fitting shape parameters for 5000 systems:  35% |\\\\\\      | ETA:  0:00:39\r"
       ]
      },
      {
       "output_type": "stream",
       "stream": "stderr",
       "text": [
        "BEBs: fitting shape parameters for 5000 systems:  36% ||||      | ETA:  0:00:38\r",
        "BEBs: fitting shape parameters for 5000 systems:  37% |///      | ETA:  0:00:37\r"
       ]
      },
      {
       "output_type": "stream",
       "stream": "stderr",
       "text": [
        "BEBs: fitting shape parameters for 5000 systems:  38% |---      | ETA:  0:00:37\r",
        "BEBs: fitting shape parameters for 5000 systems:  39% |\\\\\\      | ETA:  0:00:36\r"
       ]
      },
      {
       "output_type": "stream",
       "stream": "stderr",
       "text": [
        "BEBs: fitting shape parameters for 5000 systems:  40% ||||      | ETA:  0:00:36\r",
        "BEBs: fitting shape parameters for 5000 systems:  41% |///      | ETA:  0:00:35\r"
       ]
      },
      {
       "output_type": "stream",
       "stream": "stderr",
       "text": [
        "BEBs: fitting shape parameters for 5000 systems:  42% |---      | ETA:  0:00:34\r",
        "BEBs: fitting shape parameters for 5000 systems:  43% |\\\\\\      | ETA:  0:00:34\r"
       ]
      },
      {
       "output_type": "stream",
       "stream": "stderr",
       "text": [
        "BEBs: fitting shape parameters for 5000 systems:  44% ||||      | ETA:  0:00:33\r",
        "BEBs: fitting shape parameters for 5000 systems:  45% |////     | ETA:  0:00:33\r"
       ]
      },
      {
       "output_type": "stream",
       "stream": "stderr",
       "text": [
        "BEBs: fitting shape parameters for 5000 systems:  46% |----     | ETA:  0:00:32\r",
        "BEBs: fitting shape parameters for 5000 systems:  47% |\\\\\\\\     | ETA:  0:00:31\r"
       ]
      },
      {
       "output_type": "stream",
       "stream": "stderr",
       "text": [
        "BEBs: fitting shape parameters for 5000 systems:  48% |||||     | ETA:  0:00:31\r",
        "BEBs: fitting shape parameters for 5000 systems:  49% |////     | ETA:  0:00:30\r"
       ]
      },
      {
       "output_type": "stream",
       "stream": "stderr",
       "text": [
        "BEBs: fitting shape parameters for 5000 systems:  50% |----     | ETA:  0:00:30\r",
        "ERROR:root:No eclipse registered for index 2549\n"
       ]
      },
      {
       "output_type": "stream",
       "stream": "stderr",
       "text": [
        "BEBs: fitting shape parameters for 5000 systems:  51% |\\\\\\\\     | ETA:  0:00:29\r",
        "BEBs: fitting shape parameters for 5000 systems:  52% |||||     | ETA:  0:00:28\r"
       ]
      },
      {
       "output_type": "stream",
       "stream": "stderr",
       "text": [
        "BEBs: fitting shape parameters for 5000 systems:  53% |////     | ETA:  0:00:28\r",
        "BEBs: fitting shape parameters for 5000 systems:  54% |----     | ETA:  0:00:27\r"
       ]
      },
      {
       "output_type": "stream",
       "stream": "stderr",
       "text": [
        "BEBs: fitting shape parameters for 5000 systems:  55% |\\\\\\\\     | ETA:  0:00:27\r",
        "BEBs: fitting shape parameters for 5000 systems:  56% ||||||    | ETA:  0:00:26\r"
       ]
      },
      {
       "output_type": "stream",
       "stream": "stderr",
       "text": [
        "BEBs: fitting shape parameters for 5000 systems:  57% |/////    | ETA:  0:00:25\r",
        "BEBs: fitting shape parameters for 5000 systems:  58% |-----    | ETA:  0:00:25\r"
       ]
      },
      {
       "output_type": "stream",
       "stream": "stderr",
       "text": [
        "BEBs: fitting shape parameters for 5000 systems:  59% |\\\\\\\\\\    | ETA:  0:00:24\r",
        "BEBs: fitting shape parameters for 5000 systems:  60% ||||||    | ETA:  0:00:24\r"
       ]
      },
      {
       "output_type": "stream",
       "stream": "stderr",
       "text": [
        "BEBs: fitting shape parameters for 5000 systems:  61% |/////    | ETA:  0:00:23\r",
        "BEBs: fitting shape parameters for 5000 systems:  62% |-----    | ETA:  0:00:22\r"
       ]
      },
      {
       "output_type": "stream",
       "stream": "stderr",
       "text": [
        "BEBs: fitting shape parameters for 5000 systems:  63% |\\\\\\\\\\    | ETA:  0:00:22\r",
        "BEBs: fitting shape parameters for 5000 systems:  64% ||||||    | ETA:  0:00:21\r"
       ]
      },
      {
       "output_type": "stream",
       "stream": "stderr",
       "text": [
        "BEBs: fitting shape parameters for 5000 systems:  65% |/////    | ETA:  0:00:21\r",
        "BEBs: fitting shape parameters for 5000 systems:  66% |-----    | ETA:  0:00:20\r"
       ]
      },
      {
       "output_type": "stream",
       "stream": "stderr",
       "text": [
        "BEBs: fitting shape parameters for 5000 systems:  67% |\\\\\\\\\\\\   | ETA:  0:00:19\r",
        "BEBs: fitting shape parameters for 5000 systems:  68% |||||||   | ETA:  0:00:19\r"
       ]
      },
      {
       "output_type": "stream",
       "stream": "stderr",
       "text": [
        "BEBs: fitting shape parameters for 5000 systems:  69% |//////   | ETA:  0:00:18\r",
        "BEBs: fitting shape parameters for 5000 systems:  70% |------   | ETA:  0:00:18\r"
       ]
      },
      {
       "output_type": "stream",
       "stream": "stderr",
       "text": [
        "BEBs: fitting shape parameters for 5000 systems:  71% |\\\\\\\\\\\\   | ETA:  0:00:17\r",
        "BEBs: fitting shape parameters for 5000 systems:  72% |||||||   | ETA:  0:00:16\r"
       ]
      },
      {
       "output_type": "stream",
       "stream": "stderr",
       "text": [
        "BEBs: fitting shape parameters for 5000 systems:  73% |//////   | ETA:  0:00:16\r",
        "BEBs: fitting shape parameters for 5000 systems:  74% |------   | ETA:  0:00:15\r"
       ]
      },
      {
       "output_type": "stream",
       "stream": "stderr",
       "text": [
        "BEBs: fitting shape parameters for 5000 systems:  75% |\\\\\\\\\\\\   | ETA:  0:00:15\r",
        "BEBs: fitting shape parameters for 5000 systems:  76% |||||||   | ETA:  0:00:14\r"
       ]
      },
      {
       "output_type": "stream",
       "stream": "stderr",
       "text": [
        "BEBs: fitting shape parameters for 5000 systems:  77% |//////   | ETA:  0:00:13\r",
        "BEBs: fitting shape parameters for 5000 systems:  78% |-------  | ETA:  0:00:13\r"
       ]
      },
      {
       "output_type": "stream",
       "stream": "stderr",
       "text": [
        "BEBs: fitting shape parameters for 5000 systems:  79% |\\\\\\\\\\\\\\  | ETA:  0:00:12\r",
        "BEBs: fitting shape parameters for 5000 systems:  80% ||||||||  | ETA:  0:00:12\r"
       ]
      },
      {
       "output_type": "stream",
       "stream": "stderr",
       "text": [
        "BEBs: fitting shape parameters for 5000 systems:  81% |///////  | ETA:  0:00:11\r",
        "BEBs: fitting shape parameters for 5000 systems:  82% |-------  | ETA:  0:00:10\r"
       ]
      },
      {
       "output_type": "stream",
       "stream": "stderr",
       "text": [
        "BEBs: fitting shape parameters for 5000 systems:  83% |\\\\\\\\\\\\\\  | ETA:  0:00:10\r",
        "BEBs: fitting shape parameters for 5000 systems:  84% ||||||||  | ETA:  0:00:09\r"
       ]
      },
      {
       "output_type": "stream",
       "stream": "stderr",
       "text": [
        "BEBs: fitting shape parameters for 5000 systems:  85% |///////  | ETA:  0:00:09\r",
        "BEBs: fitting shape parameters for 5000 systems:  86% |-------  | ETA:  0:00:08\r"
       ]
      },
      {
       "output_type": "stream",
       "stream": "stderr",
       "text": [
        "BEBs: fitting shape parameters for 5000 systems:  87% |\\\\\\\\\\\\\\  | ETA:  0:00:07\r",
        "BEBs: fitting shape parameters for 5000 systems:  88% ||||||||  | ETA:  0:00:07\r"
       ]
      },
      {
       "output_type": "stream",
       "stream": "stderr",
       "text": [
        "BEBs: fitting shape parameters for 5000 systems:  89% |//////// | ETA:  0:00:06\r",
        "BEBs: fitting shape parameters for 5000 systems:  90% |-------- | ETA:  0:00:06\r"
       ]
      },
      {
       "output_type": "stream",
       "stream": "stderr",
       "text": [
        "BEBs: fitting shape parameters for 5000 systems:  91% |\\\\\\\\\\\\\\\\ | ETA:  0:00:05\r",
        "BEBs: fitting shape parameters for 5000 systems:  92% ||||||||| | ETA:  0:00:04\r"
       ]
      },
      {
       "output_type": "stream",
       "stream": "stderr",
       "text": [
        "BEBs: fitting shape parameters for 5000 systems:  93% |//////// | ETA:  0:00:04\r",
        "BEBs: fitting shape parameters for 5000 systems:  94% |-------- | ETA:  0:00:03\r"
       ]
      },
      {
       "output_type": "stream",
       "stream": "stderr",
       "text": [
        "BEBs: fitting shape parameters for 5000 systems:  95% |\\\\\\\\\\\\\\\\ | ETA:  0:00:03\r",
        "BEBs: fitting shape parameters for 5000 systems:  96% ||||||||| | ETA:  0:00:02\r"
       ]
      },
      {
       "output_type": "stream",
       "stream": "stderr",
       "text": [
        "BEBs: fitting shape parameters for 5000 systems:  97% |//////// | ETA:  0:00:01\r",
        "BEBs: fitting shape parameters for 5000 systems:  98% |-------- | ETA:  0:00:01\r"
       ]
      },
      {
       "output_type": "stream",
       "stream": "stdout",
       "text": [
        "Fitting systems took 1.01 minutes.\n"
       ]
      },
      {
       "output_type": "stream",
       "stream": "stderr",
       "text": [
        "BEBs: fitting shape parameters for 5000 systems:  99% |\\\\\\\\\\\\\\\\ | ETA:  0:00:00\r"
       ]
      }
     ],
     "prompt_number": 8
    },
    {
     "cell_type": "code",
     "collapsed": false,
     "input": [
      "#uncomment below if you want to redo the simulations/fits\n",
      "n = 5e3\n",
      "plpop = PlanetPopulation(period=period, rprs=0.0622, mass=mass, radius=radius,\n",
      "                         Teff=Teff, logg=logg, n=n, MAfn=MAfn)\n",
      "t0 = time.time()\n",
      "plpop.fit_trapezoids(MAfn=MAfn)\n",
      "t1 = time.time()\n",
      "print 'Fitting systems took {:.2f} minutes.'.format((t1-t0)/60)\n",
      "plpop.save_hdf('pl_2704.02.h5', overwrite=True)\n",
      "plpop = PlanetPopulation().load_hdf('pl_2704.02.h5')"
     ],
     "language": "python",
     "metadata": {},
     "outputs": [
      {
       "output_type": "stream",
       "stream": "stderr",
       "text": [
        "INFO:root:2961 Transiting planet systems generated (target 5000)\n"
       ]
      },
      {
       "output_type": "stream",
       "stream": "stderr",
       "text": [
        "INFO:root:5339 Transiting planet systems generated (target 5000)\n"
       ]
      },
      {
       "output_type": "stream",
       "stream": "stderr",
       "text": [
        "WARNING:root:Must do trapezoid fits before making KDE.\n"
       ]
      },
      {
       "output_type": "stream",
       "stream": "stderr",
       "text": [
        "Planets: fitting shape parameters for 5000 systems:   0% |     | ETA:  --:--:--\r",
        "Planets: fitting shape parameters for 5000 systems:   1% |      | ETA:  0:01:22\r"
       ]
      },
      {
       "output_type": "stream",
       "stream": "stderr",
       "text": [
        "Planets: fitting shape parameters for 5000 systems:   2% |      | ETA:  0:01:21\r",
        "ERROR:root:No eclipse registered for index 115\n"
       ]
      },
      {
       "output_type": "stream",
       "stream": "stderr",
       "text": [
        "Planets: fitting shape parameters for 5000 systems:   3% |      | ETA:  0:01:20\r",
        "Planets: fitting shape parameters for 5000 systems:   4% |      | ETA:  0:01:18\r"
       ]
      },
      {
       "output_type": "stream",
       "stream": "stderr",
       "text": [
        "Planets: fitting shape parameters for 5000 systems:   5% |      | ETA:  0:01:18\r",
        "Planets: fitting shape parameters for 5000 systems:   6% |      | ETA:  0:01:17\r"
       ]
      },
      {
       "output_type": "stream",
       "stream": "stderr",
       "text": [
        "Planets: fitting shape parameters for 5000 systems:   7% |      | ETA:  0:01:16\r",
        "Planets: fitting shape parameters for 5000 systems:   8% |      | ETA:  0:01:15\r"
       ]
      },
      {
       "output_type": "stream",
       "stream": "stderr",
       "text": [
        "Planets: fitting shape parameters for 5000 systems:   9% |      | ETA:  0:01:15\r",
        "Planets: fitting shape parameters for 5000 systems:  10% |      | ETA:  0:01:13\r"
       ]
      },
      {
       "output_type": "stream",
       "stream": "stderr",
       "text": [
        "Planets: fitting shape parameters for 5000 systems:  11% |      | ETA:  0:01:12\r",
        "Planets: fitting shape parameters for 5000 systems:  12% |      | ETA:  0:01:11\r"
       ]
      },
      {
       "output_type": "stream",
       "stream": "stderr",
       "text": [
        "Planets: fitting shape parameters for 5000 systems:  13% |      | ETA:  0:01:11\r",
        "Planets: fitting shape parameters for 5000 systems:  14% |      | ETA:  0:01:10\r"
       ]
      },
      {
       "output_type": "stream",
       "stream": "stderr",
       "text": [
        "ERROR:root:No eclipse registered for index 705\n"
       ]
      },
      {
       "output_type": "stream",
       "stream": "stderr",
       "text": [
        "Planets: fitting shape parameters for 5000 systems:  15% |      | ETA:  0:01:09\r",
        "Planets: fitting shape parameters for 5000 systems:  16% |      | ETA:  0:01:08\r"
       ]
      },
      {
       "output_type": "stream",
       "stream": "stderr",
       "text": [
        "Planets: fitting shape parameters for 5000 systems:  17% |/     | ETA:  0:01:07\r",
        "Planets: fitting shape parameters for 5000 systems:  18% |-     | ETA:  0:01:07\r"
       ]
      },
      {
       "output_type": "stream",
       "stream": "stderr",
       "text": [
        "ERROR:root:No eclipse registered for index 927\n"
       ]
      },
      {
       "output_type": "stream",
       "stream": "stderr",
       "text": [
        "Planets: fitting shape parameters for 5000 systems:  19% |\\     | ETA:  0:01:06\r",
        "Planets: fitting shape parameters for 5000 systems:  20% ||     | ETA:  0:01:05\r"
       ]
      },
      {
       "output_type": "stream",
       "stream": "stderr",
       "text": [
        "Planets: fitting shape parameters for 5000 systems:  21% |/     | ETA:  0:01:04\r",
        "Planets: fitting shape parameters for 5000 systems:  22% |-     | ETA:  0:01:03\r"
       ]
      },
      {
       "output_type": "stream",
       "stream": "stderr",
       "text": [
        "Planets: fitting shape parameters for 5000 systems:  23% |\\     | ETA:  0:01:02\r",
        "Planets: fitting shape parameters for 5000 systems:  24% ||     | ETA:  0:01:02\r"
       ]
      },
      {
       "output_type": "stream",
       "stream": "stderr",
       "text": [
        "Planets: fitting shape parameters for 5000 systems:  25% |/     | ETA:  0:01:01\r",
        "Planets: fitting shape parameters for 5000 systems:  26% |-     | ETA:  0:01:00\r"
       ]
      },
      {
       "output_type": "stream",
       "stream": "stderr",
       "text": [
        "Planets: fitting shape parameters for 5000 systems:  27% |\\     | ETA:  0:00:59\r",
        "Planets: fitting shape parameters for 5000 systems:  28% ||     | ETA:  0:00:58\r"
       ]
      },
      {
       "output_type": "stream",
       "stream": "stderr",
       "text": [
        "Planets: fitting shape parameters for 5000 systems:  29% |/     | ETA:  0:00:57\r",
        "Planets: fitting shape parameters for 5000 systems:  30% |-     | ETA:  0:00:57\r"
       ]
      },
      {
       "output_type": "stream",
       "stream": "stderr",
       "text": [
        "Planets: fitting shape parameters for 5000 systems:  31% |\\     | ETA:  0:00:56\r",
        "Planets: fitting shape parameters for 5000 systems:  32% ||     | ETA:  0:00:55\r"
       ]
      },
      {
       "output_type": "stream",
       "stream": "stderr",
       "text": [
        "Planets: fitting shape parameters for 5000 systems:  33% |/     | ETA:  0:00:54\r",
        "Planets: fitting shape parameters for 5000 systems:  34% |--    | ETA:  0:00:53\r"
       ]
      },
      {
       "output_type": "stream",
       "stream": "stderr",
       "text": [
        "Planets: fitting shape parameters for 5000 systems:  35% |\\\\    | ETA:  0:00:52\r",
        "Planets: fitting shape parameters for 5000 systems:  36% |||    | ETA:  0:00:52\r"
       ]
      },
      {
       "output_type": "stream",
       "stream": "stderr",
       "text": [
        "Planets: fitting shape parameters for 5000 systems:  37% |//    | ETA:  0:00:51\r",
        "ERROR:root:No eclipse registered for index 1899\n"
       ]
      },
      {
       "output_type": "stream",
       "stream": "stderr",
       "text": [
        "Planets: fitting shape parameters for 5000 systems:  38% |--    | ETA:  0:00:50\r",
        "Planets: fitting shape parameters for 5000 systems:  39% |\\\\    | ETA:  0:00:49\r"
       ]
      },
      {
       "output_type": "stream",
       "stream": "stderr",
       "text": [
        "Planets: fitting shape parameters for 5000 systems:  40% |||    | ETA:  0:00:48\r",
        "Planets: fitting shape parameters for 5000 systems:  41% |//    | ETA:  0:00:47\r"
       ]
      },
      {
       "output_type": "stream",
       "stream": "stderr",
       "text": [
        "Planets: fitting shape parameters for 5000 systems:  42% |--    | ETA:  0:00:47\r",
        "Planets: fitting shape parameters for 5000 systems:  43% |\\\\    | ETA:  0:00:46\r"
       ]
      },
      {
       "output_type": "stream",
       "stream": "stderr",
       "text": [
        "Planets: fitting shape parameters for 5000 systems:  44% |||    | ETA:  0:00:45\r",
        "Planets: fitting shape parameters for 5000 systems:  45% |//    | ETA:  0:00:44\r"
       ]
      },
      {
       "output_type": "stream",
       "stream": "stderr",
       "text": [
        "ERROR:root:No eclipse registered for index 2252\n"
       ]
      },
      {
       "output_type": "stream",
       "stream": "stderr",
       "text": [
        "Planets: fitting shape parameters for 5000 systems:  46% |--    | ETA:  0:00:43\r",
        "Planets: fitting shape parameters for 5000 systems:  47% |\\\\    | ETA:  0:00:43\r"
       ]
      },
      {
       "output_type": "stream",
       "stream": "stderr",
       "text": [
        "Planets: fitting shape parameters for 5000 systems:  48% |||    | ETA:  0:00:42\r",
        "Planets: fitting shape parameters for 5000 systems:  49% |//    | ETA:  0:00:41\r"
       ]
      },
      {
       "output_type": "stream",
       "stream": "stderr",
       "text": [
        "ERROR:root:No eclipse registered for index 2488\n"
       ]
      },
      {
       "output_type": "stream",
       "stream": "stderr",
       "text": [
        "Planets: fitting shape parameters for 5000 systems:  50% |---   | ETA:  0:00:40\r",
        "Planets: fitting shape parameters for 5000 systems:  51% |\\\\\\   | ETA:  0:00:39\r"
       ]
      },
      {
       "output_type": "stream",
       "stream": "stderr",
       "text": [
        "Planets: fitting shape parameters for 5000 systems:  52% ||||   | ETA:  0:00:39\r",
        "Planets: fitting shape parameters for 5000 systems:  53% |///   | ETA:  0:00:38\r"
       ]
      },
      {
       "output_type": "stream",
       "stream": "stderr",
       "text": [
        "Planets: fitting shape parameters for 5000 systems:  54% |---   | ETA:  0:00:37\r",
        "Planets: fitting shape parameters for 5000 systems:  55% |\\\\\\   | ETA:  0:00:36\r"
       ]
      },
      {
       "output_type": "stream",
       "stream": "stderr",
       "text": [
        "Planets: fitting shape parameters for 5000 systems:  56% ||||   | ETA:  0:00:35\r",
        "Planets: fitting shape parameters for 5000 systems:  57% |///   | ETA:  0:00:34\r"
       ]
      },
      {
       "output_type": "stream",
       "stream": "stderr",
       "text": [
        "Planets: fitting shape parameters for 5000 systems:  58% |---   | ETA:  0:00:34\r",
        "Planets: fitting shape parameters for 5000 systems:  59% |\\\\\\   | ETA:  0:00:33\r"
       ]
      },
      {
       "output_type": "stream",
       "stream": "stderr",
       "text": [
        "Planets: fitting shape parameters for 5000 systems:  60% ||||   | ETA:  0:00:32\r",
        "Planets: fitting shape parameters for 5000 systems:  61% |///   | ETA:  0:00:31\r"
       ]
      },
      {
       "output_type": "stream",
       "stream": "stderr",
       "text": [
        "ERROR:root:No eclipse registered for index 3093\n"
       ]
      },
      {
       "output_type": "stream",
       "stream": "stderr",
       "text": [
        "Planets: fitting shape parameters for 5000 systems:  62% |---   | ETA:  0:00:30\r",
        "Planets: fitting shape parameters for 5000 systems:  63% |\\\\\\   | ETA:  0:00:30\r"
       ]
      },
      {
       "output_type": "stream",
       "stream": "stderr",
       "text": [
        "Planets: fitting shape parameters for 5000 systems:  64% ||||   | ETA:  0:00:29\r",
        "Planets: fitting shape parameters for 5000 systems:  65% |///   | ETA:  0:00:28\r"
       ]
      },
      {
       "output_type": "stream",
       "stream": "stderr",
       "text": [
        "Planets: fitting shape parameters for 5000 systems:  66% |---   | ETA:  0:00:27\r",
        "Planets: fitting shape parameters for 5000 systems:  67% |\\\\\\\\  | ETA:  0:00:26\r"
       ]
      },
      {
       "output_type": "stream",
       "stream": "stderr",
       "text": [
        "Planets: fitting shape parameters for 5000 systems:  68% |||||  | ETA:  0:00:25\r",
        "Planets: fitting shape parameters for 5000 systems:  69% |////  | ETA:  0:00:25\r"
       ]
      },
      {
       "output_type": "stream",
       "stream": "stderr",
       "text": [
        "Planets: fitting shape parameters for 5000 systems:  70% |----  | ETA:  0:00:24\r",
        "Planets: fitting shape parameters for 5000 systems:  71% |\\\\\\\\  | ETA:  0:00:23\r"
       ]
      },
      {
       "output_type": "stream",
       "stream": "stderr",
       "text": [
        "Planets: fitting shape parameters for 5000 systems:  72% |||||  | ETA:  0:00:22\r",
        "Planets: fitting shape parameters for 5000 systems:  73% |////  | ETA:  0:00:21\r"
       ]
      },
      {
       "output_type": "stream",
       "stream": "stderr",
       "text": [
        "Planets: fitting shape parameters for 5000 systems:  74% |----  | ETA:  0:00:21\r",
        "Planets: fitting shape parameters for 5000 systems:  75% |\\\\\\\\  | ETA:  0:00:20\r"
       ]
      },
      {
       "output_type": "stream",
       "stream": "stderr",
       "text": [
        "ERROR:root:No eclipse registered for index 3792\n"
       ]
      },
      {
       "output_type": "stream",
       "stream": "stderr",
       "text": [
        "Planets: fitting shape parameters for 5000 systems:  76% |||||  | ETA:  0:00:19\r",
        "Planets: fitting shape parameters for 5000 systems:  77% |////  | ETA:  0:00:18\r"
       ]
      },
      {
       "output_type": "stream",
       "stream": "stderr",
       "text": [
        "Planets: fitting shape parameters for 5000 systems:  78% |----  | ETA:  0:00:17\r",
        "Planets: fitting shape parameters for 5000 systems:  79% |\\\\\\\\  | ETA:  0:00:17\r"
       ]
      },
      {
       "output_type": "stream",
       "stream": "stderr",
       "text": [
        "Planets: fitting shape parameters for 5000 systems:  80% |||||  | ETA:  0:00:16\r",
        "Planets: fitting shape parameters for 5000 systems:  81% |////  | ETA:  0:00:15\r"
       ]
      },
      {
       "output_type": "stream",
       "stream": "stderr",
       "text": [
        "Planets: fitting shape parameters for 5000 systems:  82% |----  | ETA:  0:00:14\r",
        "Planets: fitting shape parameters for 5000 systems:  83% |\\\\\\\\  | ETA:  0:00:13\r"
       ]
      },
      {
       "output_type": "stream",
       "stream": "stderr",
       "text": [
        "Planets: fitting shape parameters for 5000 systems:  84% |||||| | ETA:  0:00:13\r",
        "Planets: fitting shape parameters for 5000 systems:  85% |///// | ETA:  0:00:12\r"
       ]
      },
      {
       "output_type": "stream",
       "stream": "stderr",
       "text": [
        "Planets: fitting shape parameters for 5000 systems:  86% |----- | ETA:  0:00:11\r",
        "Planets: fitting shape parameters for 5000 systems:  87% |\\\\\\\\\\ | ETA:  0:00:10\r"
       ]
      },
      {
       "output_type": "stream",
       "stream": "stderr",
       "text": [
        "Planets: fitting shape parameters for 5000 systems:  88% |||||| | ETA:  0:00:09\r",
        "Planets: fitting shape parameters for 5000 systems:  89% |///// | ETA:  0:00:08\r"
       ]
      },
      {
       "output_type": "stream",
       "stream": "stderr",
       "text": [
        "ERROR:root:No eclipse registered for index 4452\n"
       ]
      },
      {
       "output_type": "stream",
       "stream": "stderr",
       "text": [
        "Planets: fitting shape parameters for 5000 systems:  90% |----- | ETA:  0:00:08\r",
        "ERROR:root:No eclipse registered for index 4543\n"
       ]
      },
      {
       "output_type": "stream",
       "stream": "stderr",
       "text": [
        "Planets: fitting shape parameters for 5000 systems:  91% |\\\\\\\\\\ | ETA:  0:00:07\r",
        "Planets: fitting shape parameters for 5000 systems:  92% |||||| | ETA:  0:00:06\r"
       ]
      },
      {
       "output_type": "stream",
       "stream": "stderr",
       "text": [
        "Planets: fitting shape parameters for 5000 systems:  93% |///// | ETA:  0:00:05\r",
        "Planets: fitting shape parameters for 5000 systems:  94% |----- | ETA:  0:00:04\r"
       ]
      },
      {
       "output_type": "stream",
       "stream": "stderr",
       "text": [
        "Planets: fitting shape parameters for 5000 systems:  95% |\\\\\\\\\\ | ETA:  0:00:04\r",
        "Planets: fitting shape parameters for 5000 systems:  96% |||||| | ETA:  0:00:03\r"
       ]
      },
      {
       "output_type": "stream",
       "stream": "stderr",
       "text": [
        "ERROR:root:No eclipse registered for index 4839\n"
       ]
      },
      {
       "output_type": "stream",
       "stream": "stderr",
       "text": [
        "Planets: fitting shape parameters for 5000 systems:  97% |///// | ETA:  0:00:02\r",
        "ERROR:root:No eclipse registered for index 4881\n"
       ]
      },
      {
       "output_type": "stream",
       "stream": "stderr",
       "text": [
        "Planets: fitting shape parameters for 5000 systems:  98% |----- | ETA:  0:00:01\r",
        "Planets: fitting shape parameters for 5000 systems:  99% |\\\\\\\\\\ | ETA:  0:00:00\r"
       ]
      },
      {
       "output_type": "stream",
       "stream": "stdout",
       "text": [
        "Fitting systems took 1.35 minutes.\n"
       ]
      }
     ],
     "prompt_number": 9
    },
    {
     "cell_type": "code",
     "collapsed": false,
     "input": [
      "sig = TransitSignal_ASCII('2704.02.txt')\n",
      "sig.MCMC(savedir='2704_chains/')"
     ],
     "language": "python",
     "metadata": {},
     "outputs": [
      {
       "output_type": "stream",
       "stream": "stderr",
       "text": [
        "INFO:root:MCMC fit already done for .  Loading chains.\n"
       ]
      }
     ],
     "prompt_number": 10
    },
    {
     "cell_type": "code",
     "collapsed": false,
     "input": [
      "hebpop.trsig_lhood(sig)"
     ],
     "language": "python",
     "metadata": {},
     "outputs": [
      {
       "metadata": {},
       "output_type": "pyout",
       "prompt_number": 7,
       "text": [
        "0.000568549"
       ]
      }
     ],
     "prompt_number": 7
    },
    {
     "cell_type": "code",
     "collapsed": false,
     "input": [
      "bebpop.trsig_lhood(sig)"
     ],
     "language": "python",
     "metadata": {},
     "outputs": [
      {
       "metadata": {},
       "output_type": "pyout",
       "prompt_number": 8,
       "text": [
        "5455.25"
       ]
      }
     ],
     "prompt_number": 8
    },
    {
     "cell_type": "code",
     "collapsed": false,
     "input": [
      "plpop.trsig_lhood(sig)"
     ],
     "language": "python",
     "metadata": {},
     "outputs": [
      {
       "metadata": {},
       "output_type": "pyout",
       "prompt_number": 14,
       "text": [
        "77907.597873633989"
       ]
      }
     ],
     "prompt_number": 14
    },
    {
     "cell_type": "code",
     "collapsed": false,
     "input": [
      "bebpop.constrain_secdepth(1e-3)\n",
      "hebpop.constrain_secdepth(1e-3)"
     ],
     "language": "python",
     "metadata": {},
     "outputs": [
      {
       "output_type": "stream",
       "stream": "stderr",
       "text": [
        "WARNING:root:constraint already applied: secondary depth\n"
       ]
      }
     ],
     "prompt_number": 7
    },
    {
     "cell_type": "code",
     "collapsed": false,
     "input": [
      "rootLogger.setLevel(logging.DEBUG)\n",
      "ebpop.lhoodplot(sig)\n",
      "bebpop.lhoodplot(sig)\n",
      "hebpop.lhoodplot(sig)\n",
      "plpop.lhoodplot(sig)"
     ],
     "language": "python",
     "metadata": {},
     "outputs": [
      {
       "metadata": {},
       "output_type": "display_data",
       "png": "[encoded data removed]",
       "text": [
        "<matplotlib.figure.Figure at 0x7f5db434b2d0>"
       ]
      },
      {
       "metadata": {},
       "output_type": "display_data",
       "png": "[encoded data removed]",
       "text": [
        "<matplotlib.figure.Figure at 0x7f5db434b210>"
       ]
      },
      {
       "metadata": {},
       "output_type": "display_data",
       "png": "[encoded data removed]",
       "text": [
        "<matplotlib.figure.Figure at 0x7f5db409ec50>"
       ]
      },
      {
       "metadata": {},
       "output_type": "display_data",
       "png": "[encoded data removed]",
       "text": [
        "<matplotlib.figure.Figure at 0x7f5db28c4790>"
       ]
      }
     ],
     "prompt_number": 11
    },
    {
     "cell_type": "code",
     "collapsed": false,
     "input": [
      "bebpop.density.to('arcsec^-2').value"
     ],
     "language": "python",
     "metadata": {},
     "outputs": [
      {
       "metadata": {},
       "output_type": "pyout",
       "prompt_number": 20,
       "text": [
        "0.023046682098765432"
       ]
      }
     ],
     "prompt_number": 20
    },
    {
     "cell_type": "code",
     "collapsed": false,
     "input": [
      "hebpop.prior, bebpop.prior, plpop.prior"
     ],
     "language": "python",
     "metadata": {},
     "outputs": [
      {
       "metadata": {},
       "output_type": "pyout",
       "prompt_number": 26,
       "text": [
        "(0.0074078952354586364, 0.22111310675513099, 0.00060365597584785427)"
       ]
      }
     ],
     "prompt_number": 26
    },
    {
     "cell_type": "code",
     "collapsed": false,
     "input": [
      "bebpop.prob"
     ],
     "language": "python",
     "metadata": {},
     "outputs": [
      {
       "metadata": {},
       "output_type": "pyout",
       "prompt_number": 28,
       "text": [
        "0.55278276688782746"
       ]
      }
     ],
     "prompt_number": 28
    },
    {
     "cell_type": "code",
     "collapsed": false,
     "input": [
      "hebpop.prob"
     ],
     "language": "python",
     "metadata": {},
     "outputs": [
      {
       "metadata": {},
       "output_type": "pyout",
       "prompt_number": 29,
       "text": [
        "0.061732460295488636"
       ]
      }
     ],
     "prompt_number": 29
    },
    {
     "cell_type": "code",
     "collapsed": false,
     "input": [
      "sig.plot(plot_trap=True)"
     ],
     "language": "python",
     "metadata": {},
     "outputs": [
      {
       "output_type": "stream",
       "stream": "stderr",
       "text": [
        "DEBUG:root:lo=0.972632432937, hi=1.02672621027\n"
       ]
      },
      {
       "metadata": {},
       "output_type": "display_data",
       "png": "[encoded data removed]",
       "text": [
        "<matplotlib.figure.Figure at 0x7f319656ff90>"
       ]
      }
     ],
     "prompt_number": 9
    },
    {
     "cell_type": "code",
     "collapsed": false,
     "input": [
      "pop = bebpop\n",
      "pop.stars[(pop.depth <= 0) | (np.isnan(pop.depth))]"
     ],
     "language": "python",
     "metadata": {},
     "outputs": [
      {
       "html": [
        "<div style=\"max-height:1000px;max-width:1500px;overflow:auto;\">\n",
        "<table border=\"1\" class=\"dataframe\">\n",
        "  <thead>\n",
        "    <tr style=\"text-align: right;\">\n",
        "      <th></th>\n",
        "      <th>level_0</th>\n",
        "      <th>H_mag</th>\n",
        "      <th>H_mag_A</th>\n",
        "      <th>J_mag</th>\n",
        "      <th>J_mag_A</th>\n",
        "      <th>K_mag</th>\n",
        "      <th>K_mag_A</th>\n",
        "      <th>Kepler_mag</th>\n",
        "      <th>Kepler_mag_A</th>\n",
        "      <th>Teff_A</th>\n",
        "      <th>...</th>\n",
        "      <th>w</th>\n",
        "      <th>mass_1</th>\n",
        "      <th>radius_1</th>\n",
        "      <th>mass_2</th>\n",
        "      <th>radius_2</th>\n",
        "      <th>depth</th>\n",
        "      <th>duration</th>\n",
        "      <th>secdepth</th>\n",
        "      <th>secondary</th>\n",
        "      <th>slope</th>\n",
        "    </tr>\n",
        "  </thead>\n",
        "  <tbody>\n",
        "    <tr>\n",
        "      <th>4649</th>\n",
        "      <td> 2048</td>\n",
        "      <td>NaN</td>\n",
        "      <td>NaN</td>\n",
        "      <td>NaN</td>\n",
        "      <td>NaN</td>\n",
        "      <td>NaN</td>\n",
        "      <td>NaN</td>\n",
        "      <td>NaN</td>\n",
        "      <td>NaN</td>\n",
        "      <td>NaN</td>\n",
        "      <td>...</td>\n",
        "      <td> 124.513192</td>\n",
        "      <td> 0.109451</td>\n",
        "      <td> 0.127831</td>\n",
        "      <td> 0.102049</td>\n",
        "      <td> 0.121820</td>\n",
        "      <td> 0.144521</td>\n",
        "      <td> 0.048862</td>\n",
        "      <td> 0.15676</td>\n",
        "      <td> False</td>\n",
        "      <td> 2.320787</td>\n",
        "    </tr>\n",
        "    <tr>\n",
        "      <th>4765</th>\n",
        "      <td> 2164</td>\n",
        "      <td>NaN</td>\n",
        "      <td>NaN</td>\n",
        "      <td>NaN</td>\n",
        "      <td>NaN</td>\n",
        "      <td>NaN</td>\n",
        "      <td>NaN</td>\n",
        "      <td>NaN</td>\n",
        "      <td>NaN</td>\n",
        "      <td>NaN</td>\n",
        "      <td>...</td>\n",
        "      <td> 112.650280</td>\n",
        "      <td> 0.107359</td>\n",
        "      <td> 0.126139</td>\n",
        "      <td> 0.102595</td>\n",
        "      <td> 0.122619</td>\n",
        "      <td> 0.112920</td>\n",
        "      <td> 0.033085</td>\n",
        "      <td> 0.00000</td>\n",
        "      <td> False</td>\n",
        "      <td> 2.729261</td>\n",
        "    </tr>\n",
        "  </tbody>\n",
        "</table>\n",
        "<p>2 rows \u00d7 84 columns</p>\n",
        "</div>"
       ],
       "metadata": {},
       "output_type": "pyout",
       "prompt_number": 22,
       "text": [
        "      level_0  H_mag  H_mag_A  J_mag  J_mag_A  K_mag  K_mag_A  Kepler_mag  \\\n",
        "4649     2048    NaN      NaN    NaN      NaN    NaN      NaN         NaN   \n",
        "4765     2164    NaN      NaN    NaN      NaN    NaN      NaN         NaN   \n",
        "\n",
        "      Kepler_mag_A  Teff_A    ...              w    mass_1  radius_1  \\\n",
        "4649           NaN     NaN    ...     124.513192  0.109451  0.127831   \n",
        "4765           NaN     NaN    ...     112.650280  0.107359  0.126139   \n",
        "\n",
        "        mass_2  radius_2     depth  duration  secdepth  secondary     slope  \n",
        "4649  0.102049  0.121820  0.144521  0.048862   0.15676      False  2.320787  \n",
        "4765  0.102595  0.122619  0.112920  0.033085   0.00000      False  2.729261  \n",
        "\n",
        "[2 rows x 84 columns]"
       ]
      }
     ],
     "prompt_number": 22
    },
    {
     "cell_type": "code",
     "collapsed": false,
     "input": [
      "pop = bebpop\n",
      "(np.isnan(pop.depth) | (pop.depth == 0)).sum()"
     ],
     "language": "python",
     "metadata": {},
     "outputs": [
      {
       "metadata": {},
       "output_type": "pyout",
       "prompt_number": 18,
       "text": [
        "1"
       ]
      }
     ],
     "prompt_number": 18
    },
    {
     "cell_type": "code",
     "collapsed": false,
     "input": [
      "sig.slopefit"
     ],
     "language": "python",
     "metadata": {},
     "outputs": [
      {
       "metadata": {},
       "output_type": "pyout",
       "prompt_number": 8,
       "text": [
        "(4.1051488439846811, array([ 2.10249086,  8.66746857]))"
       ]
      }
     ],
     "prompt_number": 8
    },
    {
     "cell_type": "code",
     "collapsed": false,
     "input": [
      "plpop.priorfactors"
     ],
     "language": "python",
     "metadata": {},
     "outputs": [
      {
       "metadata": {},
       "output_type": "pyout",
       "prompt_number": 15,
       "text": [
        "{'fp_specific': 0.01}"
       ]
      }
     ],
     "prompt_number": 15
    },
    {
     "cell_type": "code",
     "collapsed": false,
     "input": [
      "plpop.prior"
     ],
     "language": "python",
     "metadata": {},
     "outputs": [
      {
       "ename": "AttributeError",
       "evalue": "'PlanetPopulation' object has no attribute 'prob'",
       "output_type": "pyerr",
       "traceback": [
        "\u001b[1;31m---------------------------------------------------------------------------\u001b[0m\n\u001b[1;31mAttributeError\u001b[0m                            Traceback (most recent call last)",
        "\u001b[1;32m<ipython-input-16-a2133004a5ce>\u001b[0m in \u001b[0;36m<module>\u001b[1;34m()\u001b[0m\n\u001b[1;32m----> 1\u001b[1;33m \u001b[0mplpop\u001b[0m\u001b[1;33m.\u001b[0m\u001b[0mprior\u001b[0m\u001b[1;33m\u001b[0m\u001b[0m\n\u001b[0m",
        "\u001b[1;32m/u/tdm/anaconda/lib/python2.7/site-packages/VESPA-0.0-py2.7-linux-x86_64.egg/vespa/populations.pyc\u001b[0m in \u001b[0;36mprior\u001b[1;34m(self)\u001b[0m\n\u001b[0;32m    133\u001b[0m     \u001b[1;33m@\u001b[0m\u001b[0mproperty\u001b[0m\u001b[1;33m\u001b[0m\u001b[0m\n\u001b[0;32m    134\u001b[0m     \u001b[1;32mdef\u001b[0m \u001b[0mprior\u001b[0m\u001b[1;33m(\u001b[0m\u001b[0mself\u001b[0m\u001b[1;33m)\u001b[0m\u001b[1;33m:\u001b[0m\u001b[1;33m\u001b[0m\u001b[0m\n\u001b[1;32m--> 135\u001b[1;33m         \u001b[0mprior\u001b[0m \u001b[1;33m=\u001b[0m \u001b[0mself\u001b[0m\u001b[1;33m.\u001b[0m\u001b[0mprob\u001b[0m \u001b[1;33m*\u001b[0m \u001b[0mself\u001b[0m\u001b[1;33m.\u001b[0m\u001b[0mselectfrac\u001b[0m\u001b[1;33m\u001b[0m\u001b[0m\n\u001b[0m\u001b[0;32m    136\u001b[0m         \u001b[1;32mfor\u001b[0m \u001b[0mf\u001b[0m \u001b[1;32min\u001b[0m \u001b[0mself\u001b[0m\u001b[1;33m.\u001b[0m\u001b[0mpriorfactors\u001b[0m\u001b[1;33m:\u001b[0m\u001b[1;33m\u001b[0m\u001b[0m\n\u001b[0;32m    137\u001b[0m             \u001b[0mprior\u001b[0m \u001b[1;33m*=\u001b[0m \u001b[0mself\u001b[0m\u001b[1;33m.\u001b[0m\u001b[0mpriorfactors\u001b[0m\u001b[1;33m[\u001b[0m\u001b[0mf\u001b[0m\u001b[1;33m]\u001b[0m\u001b[1;33m\u001b[0m\u001b[0m\n",
        "\u001b[1;31mAttributeError\u001b[0m: 'PlanetPopulation' object has no attribute 'prob'"
       ]
      }
     ],
     "prompt_number": 16
    },
    {
     "cell_type": "code",
     "collapsed": false,
     "input": [
      "hebpop.prior"
     ],
     "language": "python",
     "metadata": {},
     "outputs": [
      {
       "ename": "AttributeError",
       "evalue": "'HEBPopulation' object has no attribute 'prob'",
       "output_type": "pyerr",
       "traceback": [
        "\u001b[1;31m---------------------------------------------------------------------------\u001b[0m\n\u001b[1;31mAttributeError\u001b[0m                            Traceback (most recent call last)",
        "\u001b[1;32m<ipython-input-17-c0c3124daf99>\u001b[0m in \u001b[0;36m<module>\u001b[1;34m()\u001b[0m\n\u001b[1;32m----> 1\u001b[1;33m \u001b[0mhebpop\u001b[0m\u001b[1;33m.\u001b[0m\u001b[0mprior\u001b[0m\u001b[1;33m\u001b[0m\u001b[0m\n\u001b[0m",
        "\u001b[1;32m/u/tdm/anaconda/lib/python2.7/site-packages/VESPA-0.0-py2.7-linux-x86_64.egg/vespa/populations.pyc\u001b[0m in \u001b[0;36mprior\u001b[1;34m(self)\u001b[0m\n\u001b[0;32m    133\u001b[0m     \u001b[1;33m@\u001b[0m\u001b[0mproperty\u001b[0m\u001b[1;33m\u001b[0m\u001b[0m\n\u001b[0;32m    134\u001b[0m     \u001b[1;32mdef\u001b[0m \u001b[0mprior\u001b[0m\u001b[1;33m(\u001b[0m\u001b[0mself\u001b[0m\u001b[1;33m)\u001b[0m\u001b[1;33m:\u001b[0m\u001b[1;33m\u001b[0m\u001b[0m\n\u001b[1;32m--> 135\u001b[1;33m         \u001b[0mprior\u001b[0m \u001b[1;33m=\u001b[0m \u001b[0mself\u001b[0m\u001b[1;33m.\u001b[0m\u001b[0mprob\u001b[0m \u001b[1;33m*\u001b[0m \u001b[0mself\u001b[0m\u001b[1;33m.\u001b[0m\u001b[0mselectfrac\u001b[0m\u001b[1;33m\u001b[0m\u001b[0m\n\u001b[0m\u001b[0;32m    136\u001b[0m         \u001b[1;32mfor\u001b[0m \u001b[0mf\u001b[0m \u001b[1;32min\u001b[0m \u001b[0mself\u001b[0m\u001b[1;33m.\u001b[0m\u001b[0mpriorfactors\u001b[0m\u001b[1;33m:\u001b[0m\u001b[1;33m\u001b[0m\u001b[0m\n\u001b[0;32m    137\u001b[0m             \u001b[0mprior\u001b[0m \u001b[1;33m*=\u001b[0m \u001b[0mself\u001b[0m\u001b[1;33m.\u001b[0m\u001b[0mpriorfactors\u001b[0m\u001b[1;33m[\u001b[0m\u001b[0mf\u001b[0m\u001b[1;33m]\u001b[0m\u001b[1;33m\u001b[0m\u001b[0m\n",
        "\u001b[1;31mAttributeError\u001b[0m: 'HEBPopulation' object has no attribute 'prob'"
       ]
      }
     ],
     "prompt_number": 17
    },
    {
     "cell_type": "code",
     "collapsed": false,
     "input": [
      "from starutils.populations import DARTMOUTH as dar"
     ],
     "language": "python",
     "metadata": {},
     "outputs": [],
     "prompt_number": 32
    },
    {
     "cell_type": "code",
     "collapsed": false,
     "input": [
      "mass = bgpop.stars['m_ini'].copy().values\n",
      "age =  bgpop.stars['logAge'].copy().values\n",
      "feh =  bgpop.stars['[M/H]'].copy().values\n",
      "\n",
      "pct = 0.05\n",
      "mass[mass < dar.minmass*(1+pct)] = dar.minmass*(1+pct)\n",
      "mass[mass > dar.maxmass*(1-pct)] = dar.maxmass*(1-pct)\n",
      "age[age < dar.minage*(1+pct)] = dar.minage*(1+pct)\n",
      "age[age > dar.maxage*(1-pct)] = dar.maxage*(1-pct)\n",
      "feh[feh < dar.minfeh+0.05] = dar.minfeh+0.05\n",
      "feh[feh > dar.maxfeh-0.05] = dar.maxfeh-0.05\n",
      "\n",
      "n = int(1e3)\n",
      "inds = np.random.randint(len(mass), size=n)\n",
      "mass = mass[inds]\n",
      "age = age[inds]\n",
      "feh = feh[inds]\n",
      "\n",
      "testpop = MultipleStarPopulation(mA=mass,\n",
      "                                 age=age,\n",
      "                                 feh=feh,\n",
      "                                 f_triple=0, f_binary=1,\n",
      "                                 distance=bgpop.stars['distance'],\n",
      "                                 period_long=200.)"
     ],
     "language": "python",
     "metadata": {},
     "outputs": [],
     "prompt_number": 136
    },
    {
     "cell_type": "code",
     "collapsed": false,
     "input": [
      "print len(testpop.stars['mass_A'])\n",
      "badA = np.isnan(testpop.stars['mass_A'])\n",
      "print badA.sum()\n",
      "len(testpop.stars.dropna(subset=['mass_A']))"
     ],
     "language": "python",
     "metadata": {},
     "outputs": [
      {
       "output_type": "stream",
       "stream": "stdout",
       "text": [
        "1000\n",
        "10\n"
       ]
      },
      {
       "metadata": {},
       "output_type": "pyout",
       "prompt_number": 145,
       "text": [
        "990"
       ]
      }
     ],
     "prompt_number": 145
    },
    {
     "cell_type": "code",
     "collapsed": false,
     "input": [
      "print len(testpop.stars['mass_B'])\n",
      "badB = np.isnan(testpop.stars['mass_B'])\n",
      "print badB.sum()"
     ],
     "language": "python",
     "metadata": {},
     "outputs": [
      {
       "output_type": "stream",
       "stream": "stdout",
       "text": [
        "1000\n",
        "0\n"
       ]
      }
     ],
     "prompt_number": 130
    },
    {
     "cell_type": "code",
     "collapsed": false,
     "input": [
      "plt.plot(mass[badA], age[badA], '.')"
     ],
     "language": "python",
     "metadata": {},
     "outputs": [
      {
       "metadata": {},
       "output_type": "pyout",
       "prompt_number": 131,
       "text": [
        "[<matplotlib.lines.Line2D at 0x125038bd0>]"
       ]
      },
      {
       "metadata": {},
       "output_type": "display_data",
       "png": "[encoded data removed]",
       "text": [
        "<matplotlib.figure.Figure at 0x12497ebd0>"
       ]
      }
     ],
     "prompt_number": 131
    },
    {
     "cell_type": "code",
     "collapsed": false,
     "input": [
      "plt.plot(mass[badB], age[badB], '.')"
     ],
     "language": "python",
     "metadata": {},
     "outputs": [
      {
       "metadata": {},
       "output_type": "pyout",
       "prompt_number": 119,
       "text": [
        "[<matplotlib.lines.Line2D at 0x124406250>]"
       ]
      },
      {
       "metadata": {},
       "output_type": "display_data",
       "png": "[encoded data removed]",
       "text": [
        "<matplotlib.figure.Figure at 0x123a5af90>"
       ]
      }
     ],
     "prompt_number": 119
    },
    {
     "cell_type": "code",
     "collapsed": false,
     "input": [
      "mass[badB]"
     ],
     "language": "python",
     "metadata": {},
     "outputs": [
      {
       "metadata": {},
       "output_type": "pyout",
       "prompt_number": 77,
       "text": [
        "2159    1.968872\n",
        "2306    1.968872\n",
        "3505    1.968872\n",
        "3964    1.968872\n",
        "5840    1.968872\n",
        "6751    1.968872\n",
        "7537    1.968872\n",
        "8621    1.968872\n",
        "8703    1.968872\n",
        "9571    1.968872\n",
        "Name: m_ini, dtype: float64"
       ]
      }
     ],
     "prompt_number": 77
    },
    {
     "cell_type": "code",
     "collapsed": false,
     "input": [
      "plt.hist(mass,bins=50)"
     ],
     "language": "python",
     "metadata": {},
     "outputs": [
      {
       "metadata": {},
       "output_type": "pyout",
       "prompt_number": 58,
       "text": [
        "(array([ 2613.,  1146.,   926.,   716.,   572.,   479.,   396.,   330.,\n",
        "          270.,   245.,   202.,   179.,   147.,   141.,   137.,    96.,\n",
        "          103.,    87.,    82.,    68.,    68.,    52.,    62.,    58.,\n",
        "           47.,    40.,    33.,    40.,    34.,    28.,    22.,    27.,\n",
        "           35.,    23.,    31.,    25.,    15.,    17.,    18.,    22.,\n",
        "           15.,    16.,    11.,    13.,    11.,    11.,    11.,    10.,\n",
        "           16.,   254.]),\n",
        " array([ 0.100462  ,  0.14220548,  0.18394896,  0.22569244,  0.26743592,\n",
        "         0.3091794 ,  0.35092288,  0.39266636,  0.43440984,  0.47615332,\n",
        "         0.5178968 ,  0.55964028,  0.60138376,  0.64312724,  0.68487072,\n",
        "         0.7266142 ,  0.76835768,  0.81010116,  0.85184464,  0.89358812,\n",
        "         0.9353316 ,  0.97707508,  1.01881856,  1.06056204,  1.10230552,\n",
        "         1.144049  ,  1.18579248,  1.22753596,  1.26927944,  1.31102292,\n",
        "         1.3527664 ,  1.39450988,  1.43625336,  1.47799684,  1.51974032,\n",
        "         1.5614838 ,  1.60322728,  1.64497076,  1.68671424,  1.72845772,\n",
        "         1.7702012 ,  1.81194468,  1.85368816,  1.89543164,  1.93717512,\n",
        "         1.9789186 ,  2.02066208,  2.06240556,  2.10414904,  2.14589252,\n",
        "         2.187636  ]),\n",
        " <a list of 50 Patch objects>)"
       ]
      },
      {
       "metadata": {},
       "output_type": "display_data",
       "png": "[encoded data removed]",
       "text": [
        "<matplotlib.figure.Figure at 0x122809050>"
       ]
      }
     ],
     "prompt_number": 58
    },
    {
     "cell_type": "code",
     "collapsed": false,
     "input": [
      "plt.hist(testpop.stars['mass_A'], histtype='step', normed=True)\n",
      "plt.hist(testpop.stars['mass_B'], histtype='step', normed=True)"
     ],
     "language": "python",
     "metadata": {},
     "outputs": [
      {
       "ename": "AttributeError",
       "evalue": "max must be larger than min in range parameter.",
       "output_type": "pyerr",
       "traceback": [
        "\u001b[0;31m---------------------------------------------------------------------------\u001b[0m\n\u001b[0;31mAttributeError\u001b[0m                            Traceback (most recent call last)",
        "\u001b[0;32m<ipython-input-23-9245b6a0e4f5>\u001b[0m in \u001b[0;36m<module>\u001b[0;34m()\u001b[0m\n\u001b[0;32m----> 1\u001b[0;31m \u001b[0mplt\u001b[0m\u001b[0;34m.\u001b[0m\u001b[0mhist\u001b[0m\u001b[0;34m(\u001b[0m\u001b[0mtestpop\u001b[0m\u001b[0;34m.\u001b[0m\u001b[0mstars\u001b[0m\u001b[0;34m[\u001b[0m\u001b[0;34m'mass_A'\u001b[0m\u001b[0;34m]\u001b[0m\u001b[0;34m,\u001b[0m \u001b[0mhisttype\u001b[0m\u001b[0;34m=\u001b[0m\u001b[0;34m'step'\u001b[0m\u001b[0;34m,\u001b[0m \u001b[0mnormed\u001b[0m\u001b[0;34m=\u001b[0m\u001b[0mTrue\u001b[0m\u001b[0;34m)\u001b[0m\u001b[0;34m\u001b[0m\u001b[0m\n\u001b[0m\u001b[1;32m      2\u001b[0m \u001b[0mplt\u001b[0m\u001b[0;34m.\u001b[0m\u001b[0mhist\u001b[0m\u001b[0;34m(\u001b[0m\u001b[0mtestpop\u001b[0m\u001b[0;34m.\u001b[0m\u001b[0mstars\u001b[0m\u001b[0;34m[\u001b[0m\u001b[0;34m'mass_B'\u001b[0m\u001b[0;34m]\u001b[0m\u001b[0;34m,\u001b[0m \u001b[0mhisttype\u001b[0m\u001b[0;34m=\u001b[0m\u001b[0;34m'step'\u001b[0m\u001b[0;34m,\u001b[0m \u001b[0mnormed\u001b[0m\u001b[0;34m=\u001b[0m\u001b[0mTrue\u001b[0m\u001b[0;34m)\u001b[0m\u001b[0;34m\u001b[0m\u001b[0m\n",
        "\u001b[0;32m/Users/tdm/anaconda/lib/python2.7/site-packages/matplotlib/pyplot.pyc\u001b[0m in \u001b[0;36mhist\u001b[0;34m(x, bins, range, normed, weights, cumulative, bottom, histtype, align, orientation, rwidth, log, color, label, stacked, hold, **kwargs)\u001b[0m\n\u001b[1;32m   2894\u001b[0m                       \u001b[0mhisttype\u001b[0m\u001b[0;34m=\u001b[0m\u001b[0mhisttype\u001b[0m\u001b[0;34m,\u001b[0m \u001b[0malign\u001b[0m\u001b[0;34m=\u001b[0m\u001b[0malign\u001b[0m\u001b[0;34m,\u001b[0m \u001b[0morientation\u001b[0m\u001b[0;34m=\u001b[0m\u001b[0morientation\u001b[0m\u001b[0;34m,\u001b[0m\u001b[0;34m\u001b[0m\u001b[0m\n\u001b[1;32m   2895\u001b[0m                       \u001b[0mrwidth\u001b[0m\u001b[0;34m=\u001b[0m\u001b[0mrwidth\u001b[0m\u001b[0;34m,\u001b[0m \u001b[0mlog\u001b[0m\u001b[0;34m=\u001b[0m\u001b[0mlog\u001b[0m\u001b[0;34m,\u001b[0m \u001b[0mcolor\u001b[0m\u001b[0;34m=\u001b[0m\u001b[0mcolor\u001b[0m\u001b[0;34m,\u001b[0m \u001b[0mlabel\u001b[0m\u001b[0;34m=\u001b[0m\u001b[0mlabel\u001b[0m\u001b[0;34m,\u001b[0m\u001b[0;34m\u001b[0m\u001b[0m\n\u001b[0;32m-> 2896\u001b[0;31m                       stacked=stacked, **kwargs)\n\u001b[0m\u001b[1;32m   2897\u001b[0m         \u001b[0mdraw_if_interactive\u001b[0m\u001b[0;34m(\u001b[0m\u001b[0;34m)\u001b[0m\u001b[0;34m\u001b[0m\u001b[0m\n\u001b[1;32m   2898\u001b[0m     \u001b[0;32mfinally\u001b[0m\u001b[0;34m:\u001b[0m\u001b[0;34m\u001b[0m\u001b[0m\n",
        "\u001b[0;32m/Users/tdm/anaconda/lib/python2.7/site-packages/matplotlib/axes/_axes.pyc\u001b[0m in \u001b[0;36mhist\u001b[0;34m(self, x, bins, range, normed, weights, cumulative, bottom, histtype, align, orientation, rwidth, log, color, label, stacked, **kwargs)\u001b[0m\n\u001b[1;32m   5650\u001b[0m             \u001b[0;31m# this will automatically overwrite bins,\u001b[0m\u001b[0;34m\u001b[0m\u001b[0;34m\u001b[0m\u001b[0m\n\u001b[1;32m   5651\u001b[0m             \u001b[0;31m# so that each histogram uses the same bins\u001b[0m\u001b[0;34m\u001b[0m\u001b[0;34m\u001b[0m\u001b[0m\n\u001b[0;32m-> 5652\u001b[0;31m             \u001b[0mm\u001b[0m\u001b[0;34m,\u001b[0m \u001b[0mbins\u001b[0m \u001b[0;34m=\u001b[0m \u001b[0mnp\u001b[0m\u001b[0;34m.\u001b[0m\u001b[0mhistogram\u001b[0m\u001b[0;34m(\u001b[0m\u001b[0mx\u001b[0m\u001b[0;34m[\u001b[0m\u001b[0mi\u001b[0m\u001b[0;34m]\u001b[0m\u001b[0;34m,\u001b[0m \u001b[0mbins\u001b[0m\u001b[0;34m,\u001b[0m \u001b[0mweights\u001b[0m\u001b[0;34m=\u001b[0m\u001b[0mw\u001b[0m\u001b[0;34m[\u001b[0m\u001b[0mi\u001b[0m\u001b[0;34m]\u001b[0m\u001b[0;34m,\u001b[0m \u001b[0;34m**\u001b[0m\u001b[0mhist_kwargs\u001b[0m\u001b[0;34m)\u001b[0m\u001b[0;34m\u001b[0m\u001b[0m\n\u001b[0m\u001b[1;32m   5653\u001b[0m             \u001b[0mm\u001b[0m \u001b[0;34m=\u001b[0m \u001b[0mm\u001b[0m\u001b[0;34m.\u001b[0m\u001b[0mastype\u001b[0m\u001b[0;34m(\u001b[0m\u001b[0mfloat\u001b[0m\u001b[0;34m)\u001b[0m  \u001b[0;31m# causes problems later if it's an int\u001b[0m\u001b[0;34m\u001b[0m\u001b[0m\n\u001b[1;32m   5654\u001b[0m             \u001b[0;32mif\u001b[0m \u001b[0mmlast\u001b[0m \u001b[0;32mis\u001b[0m \u001b[0mNone\u001b[0m\u001b[0;34m:\u001b[0m\u001b[0;34m\u001b[0m\u001b[0m\n",
        "\u001b[0;32m/Users/tdm/anaconda/lib/python2.7/site-packages/numpy/lib/function_base.pyc\u001b[0m in \u001b[0;36mhistogram\u001b[0;34m(a, bins, range, normed, weights, density)\u001b[0m\n\u001b[1;32m    174\u001b[0m         \u001b[0;32mif\u001b[0m \u001b[0;34m(\u001b[0m\u001b[0mmn\u001b[0m \u001b[0;34m>\u001b[0m \u001b[0mmx\u001b[0m\u001b[0;34m)\u001b[0m\u001b[0;34m:\u001b[0m\u001b[0;34m\u001b[0m\u001b[0m\n\u001b[1;32m    175\u001b[0m             raise AttributeError(\n\u001b[0;32m--> 176\u001b[0;31m                 'max must be larger than min in range parameter.')\n\u001b[0m\u001b[1;32m    177\u001b[0m \u001b[0;34m\u001b[0m\u001b[0m\n\u001b[1;32m    178\u001b[0m     \u001b[0;32mif\u001b[0m \u001b[0;32mnot\u001b[0m \u001b[0miterable\u001b[0m\u001b[0;34m(\u001b[0m\u001b[0mbins\u001b[0m\u001b[0;34m)\u001b[0m\u001b[0;34m:\u001b[0m\u001b[0;34m\u001b[0m\u001b[0m\n",
        "\u001b[0;31mAttributeError\u001b[0m: max must be larger than min in range parameter."
       ]
      },
      {
       "metadata": {},
       "output_type": "display_data",
       "png": "[encoded data removed]",
       "text": [
        "<matplotlib.figure.Figure at 0x112fbf550>"
       ]
      }
     ],
     "prompt_number": 23
    },
    {
     "cell_type": "code",
     "collapsed": false,
     "input": [
      "from scipy.interpolate import LinearNDInterpolator"
     ],
     "language": "python",
     "metadata": {},
     "outputs": [],
     "prompt_number": 59
    },
    {
     "cell_type": "code",
     "collapsed": false,
     "input": [
      "LinearNDInterpolator?"
     ],
     "language": "python",
     "metadata": {},
     "outputs": [],
     "prompt_number": 60
    },
    {
     "cell_type": "code",
     "collapsed": false,
     "input": [
      "bgpop._properties"
     ],
     "language": "python",
     "metadata": {},
     "outputs": [
      {
       "metadata": {},
       "output_type": "pyout",
       "prompt_number": 146,
       "text": [
        "['trilegal_args', 'mags', '_maxrad', 'density', 'name']"
       ]
      }
     ],
     "prompt_number": 146
    },
    {
     "cell_type": "code",
     "collapsed": false,
     "input": [
      "bgpop.trilegal_args"
     ],
     "language": "python",
     "metadata": {},
     "outputs": [
      {
       "metadata": {},
       "output_type": "pyout",
       "prompt_number": 147,
       "text": [
        "{'AV': 0.187,\n",
        " 'area': 1,\n",
        " 'b': 15.792341021533613,\n",
        " 'binaries': False,\n",
        " 'filterset': 'kepler_2mass',\n",
        " 'l': 79.0919611755139,\n",
        " 'maglim': 27,\n",
        " 'sigma_AV': 0.1,\n",
        " 'version': '1.6'}"
       ]
      }
     ],
     "prompt_number": 147
    },
    {
     "cell_type": "code",
     "collapsed": false,
     "input": [
      "bgpop.density"
     ],
     "language": "python",
     "metadata": {},
     "outputs": [
      {
       "latex": [
        "$124962 \\; \\mathrm{\\frac{1}{{}^{\\circ}^{2}}}$"
       ],
       "metadata": {},
       "output_type": "pyout",
       "prompt_number": 151,
       "text": [
        "<Quantity 124962.0 1 / deg2>"
       ]
      }
     ],
     "prompt_number": 151
    },
    {
     "cell_type": "code",
     "collapsed": false,
     "input": [
      "pop"
     ],
     "language": "python",
     "metadata": {},
     "outputs": [
      {
       "ename": "NameError",
       "evalue": "name 'pop' is not defined",
       "output_type": "pyerr",
       "traceback": [
        "\u001b[0;31m---------------------------------------------------------------------------\u001b[0m\n\u001b[0;31mNameError\u001b[0m                                 Traceback (most recent call last)",
        "\u001b[0;32m<ipython-input-152-a16dcb754991>\u001b[0m in \u001b[0;36m<module>\u001b[0;34m()\u001b[0m\n\u001b[0;32m----> 1\u001b[0;31m \u001b[0mpop\u001b[0m\u001b[0;34m\u001b[0m\u001b[0m\n\u001b[0m",
        "\u001b[0;31mNameError\u001b[0m: name 'pop' is not defined"
       ]
      }
     ],
     "prompt_number": 152
    },
    {
     "cell_type": "code",
     "collapsed": false,
     "input": [
      "MAfn = MAInterpolationFunction(pmin=0.05, pmax=1/0.05)"
     ],
     "language": "python",
     "metadata": {},
     "outputs": [],
     "prompt_number": 5
    },
    {
     "cell_type": "code",
     "collapsed": false,
     "input": [
      "bgpop = BGEBPopulation(trilegal_filename='kep22field.h5', period=200,\n",
      "                       MAfn=MAfn, n=2e4)"
     ],
     "language": "python",
     "metadata": {},
     "outputs": [
      {
       "output_type": "stream",
       "stream": "stderr",
       "text": [
        "INFO:root:364 BGEB systems generated (target 20000)\n"
       ]
      },
      {
       "output_type": "stream",
       "stream": "stderr",
       "text": [
        "INFO:root:8220 BGEB systems generated (target 20000)\n"
       ]
      },
      {
       "output_type": "stream",
       "stream": "stderr",
       "text": [
        "INFO:root:16188 BGEB systems generated (target 20000)\n"
       ]
      },
      {
       "output_type": "stream",
       "stream": "stderr",
       "text": [
        "INFO:root:20997 BGEB systems generated (target 20000)\n"
       ]
      },
      {
       "output_type": "stream",
       "stream": "stderr",
       "text": [
        "WARNING:root:Must do trapezoid fits before making KDE.\n"
       ]
      }
     ],
     "prompt_number": 6
    },
    {
     "cell_type": "code",
     "collapsed": false,
     "input": [
      "np.arange(1e2)"
     ],
     "language": "python",
     "metadata": {},
     "outputs": [
      {
       "metadata": {},
       "output_type": "pyout",
       "prompt_number": 9,
       "text": [
        "array([  0.,   1.,   2.,   3.,   4.,   5.,   6.,   7.,   8.,   9.,  10.,\n",
        "        11.,  12.,  13.,  14.,  15.,  16.,  17.,  18.,  19.,  20.,  21.,\n",
        "        22.,  23.,  24.,  25.,  26.,  27.,  28.,  29.,  30.,  31.,  32.,\n",
        "        33.,  34.,  35.,  36.,  37.,  38.,  39.,  40.,  41.,  42.,  43.,\n",
        "        44.,  45.,  46.,  47.,  48.,  49.,  50.,  51.,  52.,  53.,  54.,\n",
        "        55.,  56.,  57.,  58.,  59.,  60.,  61.,  62.,  63.,  64.,  65.,\n",
        "        66.,  67.,  68.,  69.,  70.,  71.,  72.,  73.,  74.,  75.,  76.,\n",
        "        77.,  78.,  79.,  80.,  81.,  82.,  83.,  84.,  85.,  86.,  87.,\n",
        "        88.,  89.,  90.,  91.,  92.,  93.,  94.,  95.,  96.,  97.,  98.,\n",
        "        99.])"
       ]
      }
     ],
     "prompt_number": 9
    },
    {
     "cell_type": "code",
     "collapsed": false,
     "input": [
      "np.atleast_1d(None) * 1"
     ],
     "language": "python",
     "metadata": {},
     "outputs": [
      {
       "ename": "TypeError",
       "evalue": "unsupported operand type(s) for *: 'NoneType' and 'int'",
       "output_type": "pyerr",
       "traceback": [
        "\u001b[1;31m---------------------------------------------------------------------------\u001b[0m\n\u001b[1;31mTypeError\u001b[0m                                 Traceback (most recent call last)",
        "\u001b[1;32m<ipython-input-7-1fe4a94e9b84>\u001b[0m in \u001b[0;36m<module>\u001b[1;34m()\u001b[0m\n\u001b[1;32m----> 1\u001b[1;33m \u001b[0mnp\u001b[0m\u001b[1;33m.\u001b[0m\u001b[0matleast_1d\u001b[0m\u001b[1;33m(\u001b[0m\u001b[0mNone\u001b[0m\u001b[1;33m)\u001b[0m \u001b[1;33m*\u001b[0m \u001b[1;36m1\u001b[0m\u001b[1;33m\u001b[0m\u001b[0m\n\u001b[0m",
        "\u001b[1;31mTypeError\u001b[0m: unsupported operand type(s) for *: 'NoneType' and 'int'"
       ]
      }
     ],
     "prompt_number": 7
    },
    {
     "cell_type": "code",
     "collapsed": false,
     "input": [],
     "language": "python",
     "metadata": {},
     "outputs": []
    }
   ],
   "metadata": {}
  }
 ]
}