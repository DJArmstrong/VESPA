{
 "metadata": {
  "name": "",
  "signature": "sha256:b04719f63033a5966b94e2ad0dd1d0e5917f51c53568141182e0c4153989a1ff"
 },
 "nbformat": 3,
 "nbformat_minor": 0,
 "worksheets": [
  {
   "cells": [
    {
     "cell_type": "code",
     "collapsed": false,
     "input": [
      "%matplotlib inline\n",
      "\n",
      "import numpy as np\n",
      "import matplotlib.pyplot as plt\n",
      "\n",
      "from keputils import koiutils as ku\n",
      "\n",
      "from vespa.populations import HEBPopulation\n",
      "from vespa.transit_basic import MAInterpolationFunction"
     ],
     "language": "python",
     "metadata": {},
     "outputs": [
      {
       "output_type": "stream",
       "stream": "stderr",
       "text": [
        "/u/tdm/anaconda/lib/python2.7/site-packages/setuptools-7.0-py2.7.egg/pkg_resources.py:1045: UserWarning: /u/tdm/.python-eggs is writable by group/others and vulnerable to attack when used with get_resource_filename. Consider a more secure location (set with .set_extraction_path or the PYTHON_EGG_CACHE environment variable).\n"
       ]
      }
     ],
     "prompt_number": 1
    },
    {
     "cell_type": "code",
     "collapsed": false,
     "input": [
      "import logging\n",
      "rootLogger = logging.getLogger()\n",
      "rootLogger.setLevel(logging.DEBUG)"
     ],
     "language": "python",
     "metadata": {},
     "outputs": [],
     "prompt_number": 2
    },
    {
     "cell_type": "code",
     "collapsed": false,
     "input": [
      "MAfn = MAInterpolationFunction(nzs=200,nps=400,pmin=0.007,pmax=1/0.007)"
     ],
     "language": "python",
     "metadata": {},
     "outputs": [],
     "prompt_number": 3
    },
    {
     "cell_type": "code",
     "collapsed": false,
     "input": [
      "mags = ku.KICmags(87) #Kepler-22\n",
      "mass = (0.83, 0.05)\n",
      "age = (9.6, 0.1)\n",
      "feh = (0.0, 0.1)\n",
      "period = ku.get_property(87, 'koi_period')\n",
      "pop = HEBPopulation(mass=mass, age=age, feh=feh, mags=mags, \n",
      "                    period=period, n=1000, MAfn=MAfn)"
     ],
     "language": "python",
     "metadata": {},
     "outputs": [
      {
       "output_type": "stream",
       "stream": "stderr",
       "text": [
        "INFO:root:126 systems simulated to match provided colors (target 1000).\n"
       ]
      },
      {
       "output_type": "stream",
       "stream": "stderr",
       "text": [
        "INFO:root:1077 systems simulated to match provided colors (target 1000).\n"
       ]
      },
      {
       "output_type": "stream",
       "stream": "stderr",
       "text": [
        "INFO:root:802 eclipsing HEB systems generated (target 1000)\n"
       ]
      },
      {
       "output_type": "stream",
       "stream": "stderr",
       "text": [
        "INFO:root:29 systems simulated to match provided colors (target 296).\n"
       ]
      },
      {
       "output_type": "stream",
       "stream": "stderr",
       "text": [
        "INFO:root:415 systems simulated to match provided colors (target 296).\n"
       ]
      },
      {
       "output_type": "stream",
       "stream": "stderr",
       "text": [
        "INFO:root:1037 eclipsing HEB systems generated (target 1000)\n"
       ]
      }
     ],
     "prompt_number": 8
    },
    {
     "cell_type": "code",
     "collapsed": false,
     "input": [
      "pop.stars['dpri']"
     ],
     "language": "python",
     "metadata": {},
     "outputs": [
      {
       "metadata": {},
       "output_type": "pyout",
       "prompt_number": 9,
       "text": [
        "0     0.174586\n",
        "1     0.161783\n",
        "2     0.170384\n",
        "3     0.039260\n",
        "4     0.283435\n",
        "5     0.022371\n",
        "6     0.335842\n",
        "7     0.077092\n",
        "8     0.498100\n",
        "9     0.500000\n",
        "10    0.063802\n",
        "11    0.508301\n",
        "12    0.145861\n",
        "13    0.000000\n",
        "14    0.025778\n",
        "...\n",
        "985   NaN\n",
        "986   NaN\n",
        "987   NaN\n",
        "988   NaN\n",
        "989   NaN\n",
        "990   NaN\n",
        "991   NaN\n",
        "992   NaN\n",
        "993   NaN\n",
        "994   NaN\n",
        "995   NaN\n",
        "996   NaN\n",
        "997   NaN\n",
        "998   NaN\n",
        "999   NaN\n",
        "Name: dpri, Length: 1000, dtype: float64"
       ]
      }
     ],
     "prompt_number": 9
    },
    {
     "cell_type": "code",
     "collapsed": false,
     "input": [],
     "language": "python",
     "metadata": {},
     "outputs": []
    }
   ],
   "metadata": {}
  }
 ]
}