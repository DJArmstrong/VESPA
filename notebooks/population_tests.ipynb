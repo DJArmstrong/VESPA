{
 "metadata": {
  "name": "",
  "signature": "sha256:30cb4600d9bff21d5281055e948ea11de85ca3ed62c81d07024b818d76c1157e"
 },
 "nbformat": 3,
 "nbformat_minor": 0,
 "worksheets": [
  {
   "cells": [
    {
     "cell_type": "code",
     "collapsed": false,
     "input": [
      "%matplotlib inline\n",
      "\n",
      "import numpy as np\n",
      "import matplotlib.pyplot as plt\n",
      "\n",
      "from keputils import koiutils as ku\n",
      "\n",
      "from vespa.populations import HEBPopulation, EBPopulation\n",
      "from vespa.transit_basic import MAInterpolationFunction"
     ],
     "language": "python",
     "metadata": {},
     "outputs": [
      {
       "output_type": "stream",
       "stream": "stderr",
       "text": [
        "/u/tdm/anaconda/lib/python2.7/site-packages/setuptools-7.0-py2.7.egg/pkg_resources.py:1045: UserWarning: /u/tdm/.python-eggs is writable by group/others and vulnerable to attack when used with get_resource_filename. Consider a more secure location (set with .set_extraction_path or the PYTHON_EGG_CACHE environment variable).\n"
       ]
      }
     ],
     "prompt_number": 1
    },
    {
     "cell_type": "code",
     "collapsed": false,
     "input": [
      "import logging\n",
      "rootLogger = logging.getLogger()\n",
      "rootLogger.setLevel(logging.DEBUG)"
     ],
     "language": "python",
     "metadata": {},
     "outputs": [],
     "prompt_number": 2
    },
    {
     "cell_type": "code",
     "collapsed": false,
     "input": [
      "MAfn = MAInterpolationFunction(nzs=200,nps=200,pmin=0.05,pmax=1/0.05)"
     ],
     "language": "python",
     "metadata": {},
     "outputs": [],
     "prompt_number": 3
    },
    {
     "cell_type": "code",
     "collapsed": false,
     "input": [
      "mags = ku.KICmags(87) #Kepler-22\n",
      "mass = (0.83, 0.05)\n",
      "age = (9.6, 0.1)\n",
      "feh = (0.0, 0.1)\n",
      "period = ku.get_property(87, 'koi_period')\n",
      "#pop = HEBPopulation(mass=mass, age=age, feh=feh, mags=mags,\n",
      "#                    period=period, n=1000, MAfn=MAfn)\n",
      "pop = EBPopulation(mass=mass, age=age, feh=feh, mags=mags,\n",
      "                   period=period, n=1000, MAfn=MAfn)"
     ],
     "language": "python",
     "metadata": {},
     "outputs": [
      {
       "output_type": "stream",
       "stream": "stderr",
       "text": [
        "INFO:root:167 systems simulated to match provided colors (target 1000).\n"
       ]
      },
      {
       "output_type": "stream",
       "stream": "stderr",
       "text": [
        "INFO:root:1068 systems simulated to match provided colors (target 1000).\n"
       ]
      },
      {
       "output_type": "stream",
       "stream": "stderr",
       "text": [
        "INFO:root:937 Eclipsing EB systems generated (target 1000)\n"
       ]
      },
      {
       "output_type": "stream",
       "stream": "stderr",
       "text": [
        "DEBUG:root:0 nans in stars[dpri]\n"
       ]
      },
      {
       "output_type": "stream",
       "stream": "stderr",
       "text": [
        "DEBUG:root:0 nans in df[dpri]\n"
       ]
      },
      {
       "output_type": "stream",
       "stream": "stderr",
       "text": [
        "INFO:root:12 systems simulated to match provided colors (target 80).\n"
       ]
      },
      {
       "output_type": "stream",
       "stream": "stderr",
       "text": [
        "INFO:root:111 systems simulated to match provided colors (target 80).\n"
       ]
      },
      {
       "output_type": "stream",
       "stream": "stderr",
       "text": [
        "INFO:root:1014 Eclipsing EB systems generated (target 1000)\n"
       ]
      },
      {
       "output_type": "stream",
       "stream": "stderr",
       "text": [
        "DEBUG:root:0 nans in stars[dpri]\n"
       ]
      },
      {
       "output_type": "stream",
       "stream": "stderr",
       "text": [
        "DEBUG:root:0 nans in df[dpri]\n"
       ]
      }
     ],
     "prompt_number": 4
    },
    {
     "cell_type": "code",
     "collapsed": false,
     "input": [
      "pop._properties"
     ],
     "language": "python",
     "metadata": {},
     "outputs": [
      {
       "metadata": {},
       "output_type": "pyout",
       "prompt_number": 8,
       "text": [
        "['period',\n",
        " 'model',\n",
        " 'priorfactors',\n",
        " 'lhoodcachefile',\n",
        " 'mags',\n",
        " 'colors',\n",
        " 'colortol',\n",
        " 'starfield',\n",
        " 'f_binary',\n",
        " 'f_triple',\n",
        " 'qmin',\n",
        " 'minmass',\n",
        " 'period_long_fn',\n",
        " 'period_short_fn',\n",
        " 'ecc_fn',\n",
        " 'name']"
       ]
      }
     ],
     "prompt_number": 8
    },
    {
     "cell_type": "code",
     "collapsed": false,
     "input": [
      "pop.priorfactors"
     ],
     "language": "python",
     "metadata": {},
     "outputs": [
      {
       "metadata": {},
       "output_type": "pyout",
       "prompt_number": 11,
       "text": [
        "{'f_binary': 0.4}"
       ]
      }
     ],
     "prompt_number": 11
    },
    {
     "cell_type": "code",
     "collapsed": false,
     "input": [
      "pop.save_hdf('test_heb.h5', overwrite=True)"
     ],
     "language": "python",
     "metadata": {},
     "outputs": [],
     "prompt_number": 12
    },
    {
     "cell_type": "code",
     "collapsed": false,
     "input": [
      "pop2 = EBPopulation().load_hdf('test_heb.h5')"
     ],
     "language": "python",
     "metadata": {},
     "outputs": [],
     "prompt_number": 14
    },
    {
     "cell_type": "code",
     "collapsed": false,
     "input": [
      "pop2._properties"
     ],
     "language": "python",
     "metadata": {},
     "outputs": [
      {
       "metadata": {},
       "output_type": "pyout",
       "prompt_number": 15,
       "text": [
        "['period',\n",
        " 'model',\n",
        " 'priorfactors',\n",
        " 'lhoodcachefile',\n",
        " 'mags',\n",
        " 'colors',\n",
        " 'colortol',\n",
        " 'starfield',\n",
        " 'f_binary',\n",
        " 'f_triple',\n",
        " 'qmin',\n",
        " 'minmass',\n",
        " 'period_long_fn',\n",
        " 'period_short_fn',\n",
        " 'ecc_fn',\n",
        " 'name']"
       ]
      }
     ],
     "prompt_number": 15
    },
    {
     "cell_type": "code",
     "collapsed": false,
     "input": [
      "for p in pop2._properties:\n",
      "    print p,getattr(pop2,p)"
     ],
     "language": "python",
     "metadata": {},
     "outputs": [
      {
       "output_type": "stream",
       "stream": "stdout",
       "text": [
        "period 289.8622\n",
        "model EBs\n",
        "priorfactors {'f_binary': 0.4}\n",
        "lhoodcachefile None\n",
        "mags {'j': 10.523, 'g': 12.042879099999999, 'i': 11.4300704, 'h': 10.211, 'k': 10.152000000000001, 'J': 10.523, 'Ks': 10.152000000000001, 'r': 11.596865200000002, 'H': 10.211, 'Kepler': 11.664000000000001, 'z': 11.393061000000001, 'K': 10.152000000000001, 'kep': 11.664000000000001}\n",
        "colors ['JK']\n",
        "colortol 0.1\n",
        "starfield None\n",
        "f_binary 0.4\n",
        "f_triple 0\n",
        "qmin 0.1\n",
        "minmass 0.11\n",
        "period_long_fn None\n",
        "period_short_fn <function draw_msc_periods at 0x7f9104f41aa0>\n",
        "ecc_fn <function draw_eccs at 0x7f9104f41b18>\n",
        "name \n"
       ]
      }
     ],
     "prompt_number": 16
    },
    {
     "cell_type": "code",
     "collapsed": false,
     "input": [
      "pop2.orbpop.scatterplot(rmax=10000)"
     ],
     "language": "python",
     "metadata": {},
     "outputs": [
      {
       "metadata": {},
       "output_type": "display_data",
       "png": "[encoded data removed]",
       "text": [
        "<matplotlib.figure.Figure at 0x7fa64d005510>"
       ]
      }
     ],
     "prompt_number": 12
    },
    {
     "cell_type": "code",
     "collapsed": false,
     "input": [
      "import starutils"
     ],
     "language": "python",
     "metadata": {},
     "outputs": [],
     "prompt_number": 11
    },
    {
     "cell_type": "code",
     "collapsed": false,
     "input": [
      "class A(object):\n",
      "    def __init__(self):\n",
      "        pass\n",
      "    \n",
      "    @property\n",
      "    def __prop(self):\n",
      "        return 'a'\n",
      "    \n",
      "class B(object):\n",
      "    def __init__(self):\n",
      "        pass\n",
      "    \n",
      "    @property\n",
      "    def __prop(self):\n",
      "        return 'b'\n",
      "    \n",
      "class C(A,B):\n",
      "    def __init__(self):\n",
      "        B.__init__(self)\n",
      "        pass\n",
      "    \n",
      "    @property\n",
      "    def __prop(self):\n",
      "        return 'c' + super(C,self)._A__prop + self._B__prop"
     ],
     "language": "python",
     "metadata": {},
     "outputs": [],
     "prompt_number": 33
    },
    {
     "cell_type": "code",
     "collapsed": false,
     "input": [
      "C().prop"
     ],
     "language": "python",
     "metadata": {},
     "outputs": [
      {
       "ename": "AttributeError",
       "evalue": "'C' object has no attribute 'prop'",
       "output_type": "pyerr",
       "traceback": [
        "\u001b[1;31m---------------------------------------------------------------------------\u001b[0m\n\u001b[1;31mAttributeError\u001b[0m                            Traceback (most recent call last)",
        "\u001b[1;32m<ipython-input-37-4119942eefc5>\u001b[0m in \u001b[0;36m<module>\u001b[1;34m()\u001b[0m\n\u001b[1;32m----> 1\u001b[1;33m \u001b[0mC\u001b[0m\u001b[1;33m(\u001b[0m\u001b[1;33m)\u001b[0m\u001b[1;33m.\u001b[0m\u001b[0mprop\u001b[0m\u001b[1;33m\u001b[0m\u001b[0m\n\u001b[0m",
        "\u001b[1;31mAttributeError\u001b[0m: 'C' object has no attribute 'prop'"
       ]
      }
     ],
     "prompt_number": 37
    },
    {
     "cell_type": "code",
     "collapsed": false,
     "input": [
      "pop._properties"
     ],
     "language": "python",
     "metadata": {},
     "outputs": [
      {
       "metadata": {},
       "output_type": "pyout",
       "prompt_number": 20,
       "text": [
        "['prob',\n",
        " 'dprob',\n",
        " 'f_triple',\n",
        " 'mags',\n",
        " 'colors',\n",
        " 'colortol',\n",
        " 'starfield',\n",
        " 'f_binary',\n",
        " 'f_triple',\n",
        " 'qmin',\n",
        " 'minmass',\n",
        " 'period_long_fn',\n",
        " 'period_short_fn',\n",
        " 'ecc_fn',\n",
        " 'name']"
       ]
      }
     ],
     "prompt_number": 20
    },
    {
     "cell_type": "code",
     "collapsed": false,
     "input": [
      "super(HEBPopulation, pop)"
     ],
     "language": "python",
     "metadata": {},
     "outputs": [
      {
       "metadata": {},
       "output_type": "pyout",
       "prompt_number": 22,
       "text": [
        "<super: vespa.populations.HEBPopulation,\n",
        "        <vespa.populations.HEBPopulation at 0x7fa0ebc4c5d0>>"
       ]
      }
     ],
     "prompt_number": 22
    },
    {
     "cell_type": "code",
     "collapsed": false,
     "input": [],
     "language": "python",
     "metadata": {},
     "outputs": []
    }
   ],
   "metadata": {}
  }
 ]
}